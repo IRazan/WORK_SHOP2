{
  "cells": [
    {
      "cell_type": "markdown",
      "metadata": {
        "id": "view-in-github",
        "colab_type": "text"
      },
      "source": [
        "<a href=\"https://colab.research.google.com/github/IRazan/WORK_SHOP2/blob/master/Predicting_Student_Dropout.ipynb\" target=\"_parent\"><img src=\"https://colab.research.google.com/assets/colab-badge.svg\" alt=\"Open In Colab\"/></a>"
      ]
    },
    {
      "cell_type": "markdown",
      "metadata": {
        "id": "T1MQfadQEXeL"
      },
      "source": [
        "#**Predicting Student Dropout**\n",
        "# <hr> \n",
        "\n"
      ],
      "id": "T1MQfadQEXeL"
    },
    {
      "cell_type": "markdown",
      "metadata": {
        "id": "47z8w9T665Ag"
      },
      "source": [],
      "id": "47z8w9T665Ag"
    },
    {
      "cell_type": "markdown",
      "metadata": {
        "id": "k0WbQ6v2I-Lj"
      },
      "source": [
        ">>\n",
        "  <table>\n",
        "        <thead>\n",
        "            <th>\n",
        "            Student’s Name\n",
        "            </th>\n",
        "            <th>\n",
        "            Student’s ID\n",
        "            </th>\n",
        "        </thead>\n",
        "        <tr>\n",
        "            <td>\n",
        "              Arwa Nasser Alqahtani  \n",
        "            </td>\n",
        "            <td>\n",
        "              440018921  \n",
        "            </td>\n",
        "        </tr>\n",
        "         <tr>\n",
        "            <td>\n",
        "              Razan Anwar Bajaaman  \n",
        "            </td>\n",
        "            <td>\n",
        "                440022262\n",
        "            </td>\n",
        "        </tr>\n",
        "         <tr>\n",
        "            <td>\n",
        "              Hajar Abdullaziz Aljassar  \n",
        "            </td>\n",
        "            <td>\n",
        "               440020746             \n",
        "            </td>\n",
        "        </tr>\n",
        "         <tr>\n",
        "            <td>\n",
        "              Reema Mohammed Aloqayli  \n",
        "            </td>\n",
        "            <td>\n",
        "                440025060             \n",
        "            </td>\n",
        "        </tr>\n",
        "                 <tr>\n",
        "            <td>\n",
        "              Reema Saeed Alqahtani  \n",
        "            </td>\n",
        "            <td>\n",
        "                440018811\n",
        "            </td>\n",
        "        </tr>\n",
        "    </table>"
      ],
      "id": "k0WbQ6v2I-Lj"
    },
    {
      "cell_type": "markdown",
      "metadata": {
        "id": "aOuGYW1P7ihk"
      },
      "source": [
        "#Sourse code:\n"
      ],
      "id": "aOuGYW1P7ihk"
    },
    {
      "cell_type": "markdown",
      "metadata": {
        "id": "Ua5WWwgp9jk0"
      },
      "source": [
        ">*Import all require libraries*"
      ],
      "id": "Ua5WWwgp9jk0"
    },
    {
      "cell_type": "code",
      "execution_count": null,
      "metadata": {
        "id": "536b9931"
      },
      "outputs": [],
      "source": [
        "import pandas as pd\n",
        "from sklearn.model_selection import train_test_split\n",
        "from sklearn.preprocessing import StandardScaler\n",
        "from sklearn.neighbors import KNeighborsClassifier\n",
        "from sklearn.linear_model import LogisticRegression\n",
        "from sklearn.ensemble import RandomForestRegressor\n",
        "from sklearn.naive_bayes import GaussianNB\n",
        "from sklearn import metrics\n",
        "from sklearn import tree\n",
        "import matplotlib.pyplot as plt\n",
        "import seaborn as sns\n",
        "from sklearn import metrics\n",
        "from sklearn.metrics import confusion_matrix, classification_report, accuracy_score\n",
        "from sklearn.metrics import f1_score\n",
        "import numpy as np"
      ],
      "id": "536b9931"
    },
    {
      "cell_type": "markdown",
      "metadata": {
        "id": "jXh-qGP0-cqj"
      },
      "source": [
        ">  *Read student dropout dataset*"
      ],
      "id": "jXh-qGP0-cqj"
    },
    {
      "cell_type": "code",
      "execution_count": null,
      "metadata": {
        "colab": {
          "base_uri": "https://localhost:8080/",
          "height": 539
        },
        "id": "28797fbd",
        "outputId": "391191ad-0bea-4118-efff-962941d7e8ca"
      },
      "outputs": [
        {
          "output_type": "execute_result",
          "data": {
            "text/plain": [
              "      Marital status  Application mode  Application order  Course  \\\n",
              "0                  1                 8                  5       2   \n",
              "1                  1                 6                  1      11   \n",
              "2                  1                 1                  5       5   \n",
              "3                  1                 8                  2      15   \n",
              "4                  2                12                  1       3   \n",
              "...              ...               ...                ...     ...   \n",
              "4419               1                 1                  6      15   \n",
              "4420               1                 1                  2      15   \n",
              "4421               1                 1                  1      12   \n",
              "4422               1                 1                  1       9   \n",
              "4423               1                 5                  1      15   \n",
              "\n",
              "      Daytime/evening attendance  Previous qualification  Nacionality  \\\n",
              "0                              1                       1            1   \n",
              "1                              1                       1            1   \n",
              "2                              1                       1            1   \n",
              "3                              1                       1            1   \n",
              "4                              0                       1            1   \n",
              "...                          ...                     ...          ...   \n",
              "4419                           1                       1            1   \n",
              "4420                           1                       1           19   \n",
              "4421                           1                       1            1   \n",
              "4422                           1                       1            1   \n",
              "4423                           1                       1            9   \n",
              "\n",
              "      Mother's qualification  Father's qualification  Mother's occupation  \\\n",
              "0                         13                      10                    6   \n",
              "1                          1                       3                    4   \n",
              "2                         22                      27                   10   \n",
              "3                         23                      27                    6   \n",
              "4                         22                      28                   10   \n",
              "...                      ...                     ...                  ...   \n",
              "4419                       1                       1                    6   \n",
              "4420                       1                       1                   10   \n",
              "4421                      22                      27                   10   \n",
              "4422                      22                      27                    8   \n",
              "4423                      23                      27                    6   \n",
              "\n",
              "      ...  Curricular units 2nd sem (credited)  \\\n",
              "0     ...                                    0   \n",
              "1     ...                                    0   \n",
              "2     ...                                    0   \n",
              "3     ...                                    0   \n",
              "4     ...                                    0   \n",
              "...   ...                                  ...   \n",
              "4419  ...                                    0   \n",
              "4420  ...                                    0   \n",
              "4421  ...                                    0   \n",
              "4422  ...                                    0   \n",
              "4423  ...                                    0   \n",
              "\n",
              "      Curricular units 2nd sem (enrolled)  \\\n",
              "0                                       0   \n",
              "1                                       6   \n",
              "2                                       6   \n",
              "3                                       6   \n",
              "4                                       6   \n",
              "...                                   ...   \n",
              "4419                                    6   \n",
              "4420                                    6   \n",
              "4421                                    8   \n",
              "4422                                    5   \n",
              "4423                                    6   \n",
              "\n",
              "      Curricular units 2nd sem (evaluations)  \\\n",
              "0                                          0   \n",
              "1                                          6   \n",
              "2                                          0   \n",
              "3                                         10   \n",
              "4                                          6   \n",
              "...                                      ...   \n",
              "4419                                       8   \n",
              "4420                                       6   \n",
              "4421                                       9   \n",
              "4422                                       6   \n",
              "4423                                       6   \n",
              "\n",
              "      Curricular units 2nd sem (approved)  Curricular units 2nd sem (grade)  \\\n",
              "0                                       0                          0.000000   \n",
              "1                                       6                         13.666667   \n",
              "2                                       0                          0.000000   \n",
              "3                                       5                         12.400000   \n",
              "4                                       6                         13.000000   \n",
              "...                                   ...                               ...   \n",
              "4419                                    5                         12.666667   \n",
              "4420                                    2                         11.000000   \n",
              "4421                                    1                         13.500000   \n",
              "4422                                    5                         12.000000   \n",
              "4423                                    6                         13.000000   \n",
              "\n",
              "      Curricular units 2nd sem (without evaluations)  Unemployment rate  \\\n",
              "0                                                  0               10.8   \n",
              "1                                                  0               13.9   \n",
              "2                                                  0               10.8   \n",
              "3                                                  0                9.4   \n",
              "4                                                  0               13.9   \n",
              "...                                              ...                ...   \n",
              "4419                                               0               15.5   \n",
              "4420                                               0               11.1   \n",
              "4421                                               0               13.9   \n",
              "4422                                               0                9.4   \n",
              "4423                                               0               12.7   \n",
              "\n",
              "      Inflation rate   GDP    Target  \n",
              "0                1.4  1.74   Dropout  \n",
              "1               -0.3  0.79  Graduate  \n",
              "2                1.4  1.74   Dropout  \n",
              "3               -0.8 -3.12  Graduate  \n",
              "4               -0.3  0.79  Graduate  \n",
              "...              ...   ...       ...  \n",
              "4419             2.8 -4.06  Graduate  \n",
              "4420             0.6  2.02   Dropout  \n",
              "4421            -0.3  0.79   Dropout  \n",
              "4422            -0.8 -3.12  Graduate  \n",
              "4423             3.7 -1.70  Graduate  \n",
              "\n",
              "[4424 rows x 35 columns]"
            ],
            "text/html": [
              "\n",
              "  <div id=\"df-277234e6-a5a9-4696-b3e7-deb00b2086d5\">\n",
              "    <div class=\"colab-df-container\">\n",
              "      <div>\n",
              "<style scoped>\n",
              "    .dataframe tbody tr th:only-of-type {\n",
              "        vertical-align: middle;\n",
              "    }\n",
              "\n",
              "    .dataframe tbody tr th {\n",
              "        vertical-align: top;\n",
              "    }\n",
              "\n",
              "    .dataframe thead th {\n",
              "        text-align: right;\n",
              "    }\n",
              "</style>\n",
              "<table border=\"1\" class=\"dataframe\">\n",
              "  <thead>\n",
              "    <tr style=\"text-align: right;\">\n",
              "      <th></th>\n",
              "      <th>Marital status</th>\n",
              "      <th>Application mode</th>\n",
              "      <th>Application order</th>\n",
              "      <th>Course</th>\n",
              "      <th>Daytime/evening attendance</th>\n",
              "      <th>Previous qualification</th>\n",
              "      <th>Nacionality</th>\n",
              "      <th>Mother's qualification</th>\n",
              "      <th>Father's qualification</th>\n",
              "      <th>Mother's occupation</th>\n",
              "      <th>...</th>\n",
              "      <th>Curricular units 2nd sem (credited)</th>\n",
              "      <th>Curricular units 2nd sem (enrolled)</th>\n",
              "      <th>Curricular units 2nd sem (evaluations)</th>\n",
              "      <th>Curricular units 2nd sem (approved)</th>\n",
              "      <th>Curricular units 2nd sem (grade)</th>\n",
              "      <th>Curricular units 2nd sem (without evaluations)</th>\n",
              "      <th>Unemployment rate</th>\n",
              "      <th>Inflation rate</th>\n",
              "      <th>GDP</th>\n",
              "      <th>Target</th>\n",
              "    </tr>\n",
              "  </thead>\n",
              "  <tbody>\n",
              "    <tr>\n",
              "      <th>0</th>\n",
              "      <td>1</td>\n",
              "      <td>8</td>\n",
              "      <td>5</td>\n",
              "      <td>2</td>\n",
              "      <td>1</td>\n",
              "      <td>1</td>\n",
              "      <td>1</td>\n",
              "      <td>13</td>\n",
              "      <td>10</td>\n",
              "      <td>6</td>\n",
              "      <td>...</td>\n",
              "      <td>0</td>\n",
              "      <td>0</td>\n",
              "      <td>0</td>\n",
              "      <td>0</td>\n",
              "      <td>0.000000</td>\n",
              "      <td>0</td>\n",
              "      <td>10.8</td>\n",
              "      <td>1.4</td>\n",
              "      <td>1.74</td>\n",
              "      <td>Dropout</td>\n",
              "    </tr>\n",
              "    <tr>\n",
              "      <th>1</th>\n",
              "      <td>1</td>\n",
              "      <td>6</td>\n",
              "      <td>1</td>\n",
              "      <td>11</td>\n",
              "      <td>1</td>\n",
              "      <td>1</td>\n",
              "      <td>1</td>\n",
              "      <td>1</td>\n",
              "      <td>3</td>\n",
              "      <td>4</td>\n",
              "      <td>...</td>\n",
              "      <td>0</td>\n",
              "      <td>6</td>\n",
              "      <td>6</td>\n",
              "      <td>6</td>\n",
              "      <td>13.666667</td>\n",
              "      <td>0</td>\n",
              "      <td>13.9</td>\n",
              "      <td>-0.3</td>\n",
              "      <td>0.79</td>\n",
              "      <td>Graduate</td>\n",
              "    </tr>\n",
              "    <tr>\n",
              "      <th>2</th>\n",
              "      <td>1</td>\n",
              "      <td>1</td>\n",
              "      <td>5</td>\n",
              "      <td>5</td>\n",
              "      <td>1</td>\n",
              "      <td>1</td>\n",
              "      <td>1</td>\n",
              "      <td>22</td>\n",
              "      <td>27</td>\n",
              "      <td>10</td>\n",
              "      <td>...</td>\n",
              "      <td>0</td>\n",
              "      <td>6</td>\n",
              "      <td>0</td>\n",
              "      <td>0</td>\n",
              "      <td>0.000000</td>\n",
              "      <td>0</td>\n",
              "      <td>10.8</td>\n",
              "      <td>1.4</td>\n",
              "      <td>1.74</td>\n",
              "      <td>Dropout</td>\n",
              "    </tr>\n",
              "    <tr>\n",
              "      <th>3</th>\n",
              "      <td>1</td>\n",
              "      <td>8</td>\n",
              "      <td>2</td>\n",
              "      <td>15</td>\n",
              "      <td>1</td>\n",
              "      <td>1</td>\n",
              "      <td>1</td>\n",
              "      <td>23</td>\n",
              "      <td>27</td>\n",
              "      <td>6</td>\n",
              "      <td>...</td>\n",
              "      <td>0</td>\n",
              "      <td>6</td>\n",
              "      <td>10</td>\n",
              "      <td>5</td>\n",
              "      <td>12.400000</td>\n",
              "      <td>0</td>\n",
              "      <td>9.4</td>\n",
              "      <td>-0.8</td>\n",
              "      <td>-3.12</td>\n",
              "      <td>Graduate</td>\n",
              "    </tr>\n",
              "    <tr>\n",
              "      <th>4</th>\n",
              "      <td>2</td>\n",
              "      <td>12</td>\n",
              "      <td>1</td>\n",
              "      <td>3</td>\n",
              "      <td>0</td>\n",
              "      <td>1</td>\n",
              "      <td>1</td>\n",
              "      <td>22</td>\n",
              "      <td>28</td>\n",
              "      <td>10</td>\n",
              "      <td>...</td>\n",
              "      <td>0</td>\n",
              "      <td>6</td>\n",
              "      <td>6</td>\n",
              "      <td>6</td>\n",
              "      <td>13.000000</td>\n",
              "      <td>0</td>\n",
              "      <td>13.9</td>\n",
              "      <td>-0.3</td>\n",
              "      <td>0.79</td>\n",
              "      <td>Graduate</td>\n",
              "    </tr>\n",
              "    <tr>\n",
              "      <th>...</th>\n",
              "      <td>...</td>\n",
              "      <td>...</td>\n",
              "      <td>...</td>\n",
              "      <td>...</td>\n",
              "      <td>...</td>\n",
              "      <td>...</td>\n",
              "      <td>...</td>\n",
              "      <td>...</td>\n",
              "      <td>...</td>\n",
              "      <td>...</td>\n",
              "      <td>...</td>\n",
              "      <td>...</td>\n",
              "      <td>...</td>\n",
              "      <td>...</td>\n",
              "      <td>...</td>\n",
              "      <td>...</td>\n",
              "      <td>...</td>\n",
              "      <td>...</td>\n",
              "      <td>...</td>\n",
              "      <td>...</td>\n",
              "      <td>...</td>\n",
              "    </tr>\n",
              "    <tr>\n",
              "      <th>4419</th>\n",
              "      <td>1</td>\n",
              "      <td>1</td>\n",
              "      <td>6</td>\n",
              "      <td>15</td>\n",
              "      <td>1</td>\n",
              "      <td>1</td>\n",
              "      <td>1</td>\n",
              "      <td>1</td>\n",
              "      <td>1</td>\n",
              "      <td>6</td>\n",
              "      <td>...</td>\n",
              "      <td>0</td>\n",
              "      <td>6</td>\n",
              "      <td>8</td>\n",
              "      <td>5</td>\n",
              "      <td>12.666667</td>\n",
              "      <td>0</td>\n",
              "      <td>15.5</td>\n",
              "      <td>2.8</td>\n",
              "      <td>-4.06</td>\n",
              "      <td>Graduate</td>\n",
              "    </tr>\n",
              "    <tr>\n",
              "      <th>4420</th>\n",
              "      <td>1</td>\n",
              "      <td>1</td>\n",
              "      <td>2</td>\n",
              "      <td>15</td>\n",
              "      <td>1</td>\n",
              "      <td>1</td>\n",
              "      <td>19</td>\n",
              "      <td>1</td>\n",
              "      <td>1</td>\n",
              "      <td>10</td>\n",
              "      <td>...</td>\n",
              "      <td>0</td>\n",
              "      <td>6</td>\n",
              "      <td>6</td>\n",
              "      <td>2</td>\n",
              "      <td>11.000000</td>\n",
              "      <td>0</td>\n",
              "      <td>11.1</td>\n",
              "      <td>0.6</td>\n",
              "      <td>2.02</td>\n",
              "      <td>Dropout</td>\n",
              "    </tr>\n",
              "    <tr>\n",
              "      <th>4421</th>\n",
              "      <td>1</td>\n",
              "      <td>1</td>\n",
              "      <td>1</td>\n",
              "      <td>12</td>\n",
              "      <td>1</td>\n",
              "      <td>1</td>\n",
              "      <td>1</td>\n",
              "      <td>22</td>\n",
              "      <td>27</td>\n",
              "      <td>10</td>\n",
              "      <td>...</td>\n",
              "      <td>0</td>\n",
              "      <td>8</td>\n",
              "      <td>9</td>\n",
              "      <td>1</td>\n",
              "      <td>13.500000</td>\n",
              "      <td>0</td>\n",
              "      <td>13.9</td>\n",
              "      <td>-0.3</td>\n",
              "      <td>0.79</td>\n",
              "      <td>Dropout</td>\n",
              "    </tr>\n",
              "    <tr>\n",
              "      <th>4422</th>\n",
              "      <td>1</td>\n",
              "      <td>1</td>\n",
              "      <td>1</td>\n",
              "      <td>9</td>\n",
              "      <td>1</td>\n",
              "      <td>1</td>\n",
              "      <td>1</td>\n",
              "      <td>22</td>\n",
              "      <td>27</td>\n",
              "      <td>8</td>\n",
              "      <td>...</td>\n",
              "      <td>0</td>\n",
              "      <td>5</td>\n",
              "      <td>6</td>\n",
              "      <td>5</td>\n",
              "      <td>12.000000</td>\n",
              "      <td>0</td>\n",
              "      <td>9.4</td>\n",
              "      <td>-0.8</td>\n",
              "      <td>-3.12</td>\n",
              "      <td>Graduate</td>\n",
              "    </tr>\n",
              "    <tr>\n",
              "      <th>4423</th>\n",
              "      <td>1</td>\n",
              "      <td>5</td>\n",
              "      <td>1</td>\n",
              "      <td>15</td>\n",
              "      <td>1</td>\n",
              "      <td>1</td>\n",
              "      <td>9</td>\n",
              "      <td>23</td>\n",
              "      <td>27</td>\n",
              "      <td>6</td>\n",
              "      <td>...</td>\n",
              "      <td>0</td>\n",
              "      <td>6</td>\n",
              "      <td>6</td>\n",
              "      <td>6</td>\n",
              "      <td>13.000000</td>\n",
              "      <td>0</td>\n",
              "      <td>12.7</td>\n",
              "      <td>3.7</td>\n",
              "      <td>-1.70</td>\n",
              "      <td>Graduate</td>\n",
              "    </tr>\n",
              "  </tbody>\n",
              "</table>\n",
              "<p>4424 rows × 35 columns</p>\n",
              "</div>\n",
              "      <button class=\"colab-df-convert\" onclick=\"convertToInteractive('df-277234e6-a5a9-4696-b3e7-deb00b2086d5')\"\n",
              "              title=\"Convert this dataframe to an interactive table.\"\n",
              "              style=\"display:none;\">\n",
              "        \n",
              "  <svg xmlns=\"http://www.w3.org/2000/svg\" height=\"24px\"viewBox=\"0 0 24 24\"\n",
              "       width=\"24px\">\n",
              "    <path d=\"M0 0h24v24H0V0z\" fill=\"none\"/>\n",
              "    <path d=\"M18.56 5.44l.94 2.06.94-2.06 2.06-.94-2.06-.94-.94-2.06-.94 2.06-2.06.94zm-11 1L8.5 8.5l.94-2.06 2.06-.94-2.06-.94L8.5 2.5l-.94 2.06-2.06.94zm10 10l.94 2.06.94-2.06 2.06-.94-2.06-.94-.94-2.06-.94 2.06-2.06.94z\"/><path d=\"M17.41 7.96l-1.37-1.37c-.4-.4-.92-.59-1.43-.59-.52 0-1.04.2-1.43.59L10.3 9.45l-7.72 7.72c-.78.78-.78 2.05 0 2.83L4 21.41c.39.39.9.59 1.41.59.51 0 1.02-.2 1.41-.59l7.78-7.78 2.81-2.81c.8-.78.8-2.07 0-2.86zM5.41 20L4 18.59l7.72-7.72 1.47 1.35L5.41 20z\"/>\n",
              "  </svg>\n",
              "      </button>\n",
              "      \n",
              "  <style>\n",
              "    .colab-df-container {\n",
              "      display:flex;\n",
              "      flex-wrap:wrap;\n",
              "      gap: 12px;\n",
              "    }\n",
              "\n",
              "    .colab-df-convert {\n",
              "      background-color: #E8F0FE;\n",
              "      border: none;\n",
              "      border-radius: 50%;\n",
              "      cursor: pointer;\n",
              "      display: none;\n",
              "      fill: #1967D2;\n",
              "      height: 32px;\n",
              "      padding: 0 0 0 0;\n",
              "      width: 32px;\n",
              "    }\n",
              "\n",
              "    .colab-df-convert:hover {\n",
              "      background-color: #E2EBFA;\n",
              "      box-shadow: 0px 1px 2px rgba(60, 64, 67, 0.3), 0px 1px 3px 1px rgba(60, 64, 67, 0.15);\n",
              "      fill: #174EA6;\n",
              "    }\n",
              "\n",
              "    [theme=dark] .colab-df-convert {\n",
              "      background-color: #3B4455;\n",
              "      fill: #D2E3FC;\n",
              "    }\n",
              "\n",
              "    [theme=dark] .colab-df-convert:hover {\n",
              "      background-color: #434B5C;\n",
              "      box-shadow: 0px 1px 3px 1px rgba(0, 0, 0, 0.15);\n",
              "      filter: drop-shadow(0px 1px 2px rgba(0, 0, 0, 0.3));\n",
              "      fill: #FFFFFF;\n",
              "    }\n",
              "  </style>\n",
              "\n",
              "      <script>\n",
              "        const buttonEl =\n",
              "          document.querySelector('#df-277234e6-a5a9-4696-b3e7-deb00b2086d5 button.colab-df-convert');\n",
              "        buttonEl.style.display =\n",
              "          google.colab.kernel.accessAllowed ? 'block' : 'none';\n",
              "\n",
              "        async function convertToInteractive(key) {\n",
              "          const element = document.querySelector('#df-277234e6-a5a9-4696-b3e7-deb00b2086d5');\n",
              "          const dataTable =\n",
              "            await google.colab.kernel.invokeFunction('convertToInteractive',\n",
              "                                                     [key], {});\n",
              "          if (!dataTable) return;\n",
              "\n",
              "          const docLinkHtml = 'Like what you see? Visit the ' +\n",
              "            '<a target=\"_blank\" href=https://colab.research.google.com/notebooks/data_table.ipynb>data table notebook</a>'\n",
              "            + ' to learn more about interactive tables.';\n",
              "          element.innerHTML = '';\n",
              "          dataTable['output_type'] = 'display_data';\n",
              "          await google.colab.output.renderOutput(dataTable, element);\n",
              "          const docLink = document.createElement('div');\n",
              "          docLink.innerHTML = docLinkHtml;\n",
              "          element.appendChild(docLink);\n",
              "        }\n",
              "      </script>\n",
              "    </div>\n",
              "  </div>\n",
              "  "
            ]
          },
          "metadata": {},
          "execution_count": 173
        }
      ],
      "source": [
        "dataset = pd.read_csv(\"dataset.csv\")\n",
        "dataset"
      ],
      "id": "28797fbd"
    },
    {
      "cell_type": "markdown",
      "metadata": {
        "id": "r_rU8oRGMifa"
      },
      "source": [
        "> Use `info()` function to print full summary of the dataframe including list of all columns with their data types and the number of non-null values etc, as we see there are no null values.\n"
      ],
      "id": "r_rU8oRGMifa"
    },
    {
      "cell_type": "code",
      "execution_count": null,
      "metadata": {
        "colab": {
          "base_uri": "https://localhost:8080/"
        },
        "id": "b59c3bf1",
        "outputId": "588f6232-7a18-42f5-d7d1-5b65bfbe9173"
      },
      "outputs": [
        {
          "output_type": "stream",
          "name": "stdout",
          "text": [
            "<class 'pandas.core.frame.DataFrame'>\n",
            "RangeIndex: 4424 entries, 0 to 4423\n",
            "Data columns (total 35 columns):\n",
            " #   Column                                          Non-Null Count  Dtype  \n",
            "---  ------                                          --------------  -----  \n",
            " 0   Marital status                                  4424 non-null   int64  \n",
            " 1   Application mode                                4424 non-null   int64  \n",
            " 2   Application order                               4424 non-null   int64  \n",
            " 3   Course                                          4424 non-null   int64  \n",
            " 4   Daytime/evening attendance                      4424 non-null   int64  \n",
            " 5   Previous qualification                          4424 non-null   int64  \n",
            " 6   Nacionality                                     4424 non-null   int64  \n",
            " 7   Mother's qualification                          4424 non-null   int64  \n",
            " 8   Father's qualification                          4424 non-null   int64  \n",
            " 9   Mother's occupation                             4424 non-null   int64  \n",
            " 10  Father's occupation                             4424 non-null   int64  \n",
            " 11  Displaced                                       4424 non-null   int64  \n",
            " 12  Educational special needs                       4424 non-null   int64  \n",
            " 13  Debtor                                          4424 non-null   int64  \n",
            " 14  Tuition fees up to date                         4424 non-null   int64  \n",
            " 15  Gender                                          4424 non-null   int64  \n",
            " 16  Scholarship holder                              4424 non-null   int64  \n",
            " 17  Age at enrollment                               4424 non-null   int64  \n",
            " 18  International                                   4424 non-null   int64  \n",
            " 19  Curricular units 1st sem (credited)             4424 non-null   int64  \n",
            " 20  Curricular units 1st sem (enrolled)             4424 non-null   int64  \n",
            " 21  Curricular units 1st sem (evaluations)          4424 non-null   int64  \n",
            " 22  Curricular units 1st sem (approved)             4424 non-null   int64  \n",
            " 23  Curricular units 1st sem (grade)                4424 non-null   float64\n",
            " 24  Curricular units 1st sem (without evaluations)  4424 non-null   int64  \n",
            " 25  Curricular units 2nd sem (credited)             4424 non-null   int64  \n",
            " 26  Curricular units 2nd sem (enrolled)             4424 non-null   int64  \n",
            " 27  Curricular units 2nd sem (evaluations)          4424 non-null   int64  \n",
            " 28  Curricular units 2nd sem (approved)             4424 non-null   int64  \n",
            " 29  Curricular units 2nd sem (grade)                4424 non-null   float64\n",
            " 30  Curricular units 2nd sem (without evaluations)  4424 non-null   int64  \n",
            " 31  Unemployment rate                               4424 non-null   float64\n",
            " 32  Inflation rate                                  4424 non-null   float64\n",
            " 33  GDP                                             4424 non-null   float64\n",
            " 34  Target                                          4424 non-null   object \n",
            "dtypes: float64(5), int64(29), object(1)\n",
            "memory usage: 1.2+ MB\n"
          ]
        }
      ],
      "source": [
        "dataset.info()"
      ],
      "id": "b59c3bf1"
    },
    {
      "cell_type": "markdown",
      "metadata": {
        "id": "e-fgdx5hNq_a"
      },
      "source": [
        "> `.describe():` Display dataset's description: Count, max, min, mean, standard deviation ..etc."
      ],
      "id": "e-fgdx5hNq_a"
    },
    {
      "cell_type": "code",
      "execution_count": null,
      "metadata": {
        "colab": {
          "base_uri": "https://localhost:8080/",
          "height": 445
        },
        "id": "d66c3418",
        "outputId": "a4409f98-9130-4af8-adcf-22c81e27c8f1"
      },
      "outputs": [
        {
          "output_type": "execute_result",
          "data": {
            "text/plain": [
              "       Marital status  Application mode  Application order       Course  \\\n",
              "count     4424.000000       4424.000000        4424.000000  4424.000000   \n",
              "mean         1.178571          6.886980           1.727848     9.899186   \n",
              "std          0.605747          5.298964           1.313793     4.331792   \n",
              "min          1.000000          1.000000           0.000000     1.000000   \n",
              "25%          1.000000          1.000000           1.000000     6.000000   \n",
              "50%          1.000000          8.000000           1.000000    10.000000   \n",
              "75%          1.000000         12.000000           2.000000    13.000000   \n",
              "max          6.000000         18.000000           9.000000    17.000000   \n",
              "\n",
              "       Daytime/evening attendance  Previous qualification  Nacionality  \\\n",
              "count                 4424.000000             4424.000000  4424.000000   \n",
              "mean                     0.890823                2.531420     1.254521   \n",
              "std                      0.311897                3.963707     1.748447   \n",
              "min                      0.000000                1.000000     1.000000   \n",
              "25%                      1.000000                1.000000     1.000000   \n",
              "50%                      1.000000                1.000000     1.000000   \n",
              "75%                      1.000000                1.000000     1.000000   \n",
              "max                      1.000000               17.000000    21.000000   \n",
              "\n",
              "       Mother's qualification  Father's qualification  Mother's occupation  \\\n",
              "count             4424.000000             4424.000000          4424.000000   \n",
              "mean                12.322107               16.455244             7.317812   \n",
              "std                  9.026251               11.044800             3.997828   \n",
              "min                  1.000000                1.000000             1.000000   \n",
              "25%                  2.000000                3.000000             5.000000   \n",
              "50%                 13.000000               14.000000             6.000000   \n",
              "75%                 22.000000               27.000000            10.000000   \n",
              "max                 29.000000               34.000000            32.000000   \n",
              "\n",
              "       ...  Curricular units 1st sem (without evaluations)  \\\n",
              "count  ...                                     4424.000000   \n",
              "mean   ...                                        0.137658   \n",
              "std    ...                                        0.690880   \n",
              "min    ...                                        0.000000   \n",
              "25%    ...                                        0.000000   \n",
              "50%    ...                                        0.000000   \n",
              "75%    ...                                        0.000000   \n",
              "max    ...                                       12.000000   \n",
              "\n",
              "       Curricular units 2nd sem (credited)  \\\n",
              "count                          4424.000000   \n",
              "mean                              0.541817   \n",
              "std                               1.918546   \n",
              "min                               0.000000   \n",
              "25%                               0.000000   \n",
              "50%                               0.000000   \n",
              "75%                               0.000000   \n",
              "max                              19.000000   \n",
              "\n",
              "       Curricular units 2nd sem (enrolled)  \\\n",
              "count                          4424.000000   \n",
              "mean                              6.232143   \n",
              "std                               2.195951   \n",
              "min                               0.000000   \n",
              "25%                               5.000000   \n",
              "50%                               6.000000   \n",
              "75%                               7.000000   \n",
              "max                              23.000000   \n",
              "\n",
              "       Curricular units 2nd sem (evaluations)  \\\n",
              "count                             4424.000000   \n",
              "mean                                 8.063291   \n",
              "std                                  3.947951   \n",
              "min                                  0.000000   \n",
              "25%                                  6.000000   \n",
              "50%                                  8.000000   \n",
              "75%                                 10.000000   \n",
              "max                                 33.000000   \n",
              "\n",
              "       Curricular units 2nd sem (approved)  Curricular units 2nd sem (grade)  \\\n",
              "count                          4424.000000                       4424.000000   \n",
              "mean                              4.435805                         10.230206   \n",
              "std                               3.014764                          5.210808   \n",
              "min                               0.000000                          0.000000   \n",
              "25%                               2.000000                         10.750000   \n",
              "50%                               5.000000                         12.200000   \n",
              "75%                               6.000000                         13.333333   \n",
              "max                              20.000000                         18.571429   \n",
              "\n",
              "       Curricular units 2nd sem (without evaluations)  Unemployment rate  \\\n",
              "count                                     4424.000000        4424.000000   \n",
              "mean                                         0.150316          11.566139   \n",
              "std                                          0.753774           2.663850   \n",
              "min                                          0.000000           7.600000   \n",
              "25%                                          0.000000           9.400000   \n",
              "50%                                          0.000000          11.100000   \n",
              "75%                                          0.000000          13.900000   \n",
              "max                                         12.000000          16.200000   \n",
              "\n",
              "       Inflation rate          GDP  \n",
              "count     4424.000000  4424.000000  \n",
              "mean         1.228029     0.001969  \n",
              "std          1.382711     2.269935  \n",
              "min         -0.800000    -4.060000  \n",
              "25%          0.300000    -1.700000  \n",
              "50%          1.400000     0.320000  \n",
              "75%          2.600000     1.790000  \n",
              "max          3.700000     3.510000  \n",
              "\n",
              "[8 rows x 34 columns]"
            ],
            "text/html": [
              "\n",
              "  <div id=\"df-2c830b0a-e0e1-4b19-896b-883cc3bb37d2\">\n",
              "    <div class=\"colab-df-container\">\n",
              "      <div>\n",
              "<style scoped>\n",
              "    .dataframe tbody tr th:only-of-type {\n",
              "        vertical-align: middle;\n",
              "    }\n",
              "\n",
              "    .dataframe tbody tr th {\n",
              "        vertical-align: top;\n",
              "    }\n",
              "\n",
              "    .dataframe thead th {\n",
              "        text-align: right;\n",
              "    }\n",
              "</style>\n",
              "<table border=\"1\" class=\"dataframe\">\n",
              "  <thead>\n",
              "    <tr style=\"text-align: right;\">\n",
              "      <th></th>\n",
              "      <th>Marital status</th>\n",
              "      <th>Application mode</th>\n",
              "      <th>Application order</th>\n",
              "      <th>Course</th>\n",
              "      <th>Daytime/evening attendance</th>\n",
              "      <th>Previous qualification</th>\n",
              "      <th>Nacionality</th>\n",
              "      <th>Mother's qualification</th>\n",
              "      <th>Father's qualification</th>\n",
              "      <th>Mother's occupation</th>\n",
              "      <th>...</th>\n",
              "      <th>Curricular units 1st sem (without evaluations)</th>\n",
              "      <th>Curricular units 2nd sem (credited)</th>\n",
              "      <th>Curricular units 2nd sem (enrolled)</th>\n",
              "      <th>Curricular units 2nd sem (evaluations)</th>\n",
              "      <th>Curricular units 2nd sem (approved)</th>\n",
              "      <th>Curricular units 2nd sem (grade)</th>\n",
              "      <th>Curricular units 2nd sem (without evaluations)</th>\n",
              "      <th>Unemployment rate</th>\n",
              "      <th>Inflation rate</th>\n",
              "      <th>GDP</th>\n",
              "    </tr>\n",
              "  </thead>\n",
              "  <tbody>\n",
              "    <tr>\n",
              "      <th>count</th>\n",
              "      <td>4424.000000</td>\n",
              "      <td>4424.000000</td>\n",
              "      <td>4424.000000</td>\n",
              "      <td>4424.000000</td>\n",
              "      <td>4424.000000</td>\n",
              "      <td>4424.000000</td>\n",
              "      <td>4424.000000</td>\n",
              "      <td>4424.000000</td>\n",
              "      <td>4424.000000</td>\n",
              "      <td>4424.000000</td>\n",
              "      <td>...</td>\n",
              "      <td>4424.000000</td>\n",
              "      <td>4424.000000</td>\n",
              "      <td>4424.000000</td>\n",
              "      <td>4424.000000</td>\n",
              "      <td>4424.000000</td>\n",
              "      <td>4424.000000</td>\n",
              "      <td>4424.000000</td>\n",
              "      <td>4424.000000</td>\n",
              "      <td>4424.000000</td>\n",
              "      <td>4424.000000</td>\n",
              "    </tr>\n",
              "    <tr>\n",
              "      <th>mean</th>\n",
              "      <td>1.178571</td>\n",
              "      <td>6.886980</td>\n",
              "      <td>1.727848</td>\n",
              "      <td>9.899186</td>\n",
              "      <td>0.890823</td>\n",
              "      <td>2.531420</td>\n",
              "      <td>1.254521</td>\n",
              "      <td>12.322107</td>\n",
              "      <td>16.455244</td>\n",
              "      <td>7.317812</td>\n",
              "      <td>...</td>\n",
              "      <td>0.137658</td>\n",
              "      <td>0.541817</td>\n",
              "      <td>6.232143</td>\n",
              "      <td>8.063291</td>\n",
              "      <td>4.435805</td>\n",
              "      <td>10.230206</td>\n",
              "      <td>0.150316</td>\n",
              "      <td>11.566139</td>\n",
              "      <td>1.228029</td>\n",
              "      <td>0.001969</td>\n",
              "    </tr>\n",
              "    <tr>\n",
              "      <th>std</th>\n",
              "      <td>0.605747</td>\n",
              "      <td>5.298964</td>\n",
              "      <td>1.313793</td>\n",
              "      <td>4.331792</td>\n",
              "      <td>0.311897</td>\n",
              "      <td>3.963707</td>\n",
              "      <td>1.748447</td>\n",
              "      <td>9.026251</td>\n",
              "      <td>11.044800</td>\n",
              "      <td>3.997828</td>\n",
              "      <td>...</td>\n",
              "      <td>0.690880</td>\n",
              "      <td>1.918546</td>\n",
              "      <td>2.195951</td>\n",
              "      <td>3.947951</td>\n",
              "      <td>3.014764</td>\n",
              "      <td>5.210808</td>\n",
              "      <td>0.753774</td>\n",
              "      <td>2.663850</td>\n",
              "      <td>1.382711</td>\n",
              "      <td>2.269935</td>\n",
              "    </tr>\n",
              "    <tr>\n",
              "      <th>min</th>\n",
              "      <td>1.000000</td>\n",
              "      <td>1.000000</td>\n",
              "      <td>0.000000</td>\n",
              "      <td>1.000000</td>\n",
              "      <td>0.000000</td>\n",
              "      <td>1.000000</td>\n",
              "      <td>1.000000</td>\n",
              "      <td>1.000000</td>\n",
              "      <td>1.000000</td>\n",
              "      <td>1.000000</td>\n",
              "      <td>...</td>\n",
              "      <td>0.000000</td>\n",
              "      <td>0.000000</td>\n",
              "      <td>0.000000</td>\n",
              "      <td>0.000000</td>\n",
              "      <td>0.000000</td>\n",
              "      <td>0.000000</td>\n",
              "      <td>0.000000</td>\n",
              "      <td>7.600000</td>\n",
              "      <td>-0.800000</td>\n",
              "      <td>-4.060000</td>\n",
              "    </tr>\n",
              "    <tr>\n",
              "      <th>25%</th>\n",
              "      <td>1.000000</td>\n",
              "      <td>1.000000</td>\n",
              "      <td>1.000000</td>\n",
              "      <td>6.000000</td>\n",
              "      <td>1.000000</td>\n",
              "      <td>1.000000</td>\n",
              "      <td>1.000000</td>\n",
              "      <td>2.000000</td>\n",
              "      <td>3.000000</td>\n",
              "      <td>5.000000</td>\n",
              "      <td>...</td>\n",
              "      <td>0.000000</td>\n",
              "      <td>0.000000</td>\n",
              "      <td>5.000000</td>\n",
              "      <td>6.000000</td>\n",
              "      <td>2.000000</td>\n",
              "      <td>10.750000</td>\n",
              "      <td>0.000000</td>\n",
              "      <td>9.400000</td>\n",
              "      <td>0.300000</td>\n",
              "      <td>-1.700000</td>\n",
              "    </tr>\n",
              "    <tr>\n",
              "      <th>50%</th>\n",
              "      <td>1.000000</td>\n",
              "      <td>8.000000</td>\n",
              "      <td>1.000000</td>\n",
              "      <td>10.000000</td>\n",
              "      <td>1.000000</td>\n",
              "      <td>1.000000</td>\n",
              "      <td>1.000000</td>\n",
              "      <td>13.000000</td>\n",
              "      <td>14.000000</td>\n",
              "      <td>6.000000</td>\n",
              "      <td>...</td>\n",
              "      <td>0.000000</td>\n",
              "      <td>0.000000</td>\n",
              "      <td>6.000000</td>\n",
              "      <td>8.000000</td>\n",
              "      <td>5.000000</td>\n",
              "      <td>12.200000</td>\n",
              "      <td>0.000000</td>\n",
              "      <td>11.100000</td>\n",
              "      <td>1.400000</td>\n",
              "      <td>0.320000</td>\n",
              "    </tr>\n",
              "    <tr>\n",
              "      <th>75%</th>\n",
              "      <td>1.000000</td>\n",
              "      <td>12.000000</td>\n",
              "      <td>2.000000</td>\n",
              "      <td>13.000000</td>\n",
              "      <td>1.000000</td>\n",
              "      <td>1.000000</td>\n",
              "      <td>1.000000</td>\n",
              "      <td>22.000000</td>\n",
              "      <td>27.000000</td>\n",
              "      <td>10.000000</td>\n",
              "      <td>...</td>\n",
              "      <td>0.000000</td>\n",
              "      <td>0.000000</td>\n",
              "      <td>7.000000</td>\n",
              "      <td>10.000000</td>\n",
              "      <td>6.000000</td>\n",
              "      <td>13.333333</td>\n",
              "      <td>0.000000</td>\n",
              "      <td>13.900000</td>\n",
              "      <td>2.600000</td>\n",
              "      <td>1.790000</td>\n",
              "    </tr>\n",
              "    <tr>\n",
              "      <th>max</th>\n",
              "      <td>6.000000</td>\n",
              "      <td>18.000000</td>\n",
              "      <td>9.000000</td>\n",
              "      <td>17.000000</td>\n",
              "      <td>1.000000</td>\n",
              "      <td>17.000000</td>\n",
              "      <td>21.000000</td>\n",
              "      <td>29.000000</td>\n",
              "      <td>34.000000</td>\n",
              "      <td>32.000000</td>\n",
              "      <td>...</td>\n",
              "      <td>12.000000</td>\n",
              "      <td>19.000000</td>\n",
              "      <td>23.000000</td>\n",
              "      <td>33.000000</td>\n",
              "      <td>20.000000</td>\n",
              "      <td>18.571429</td>\n",
              "      <td>12.000000</td>\n",
              "      <td>16.200000</td>\n",
              "      <td>3.700000</td>\n",
              "      <td>3.510000</td>\n",
              "    </tr>\n",
              "  </tbody>\n",
              "</table>\n",
              "<p>8 rows × 34 columns</p>\n",
              "</div>\n",
              "      <button class=\"colab-df-convert\" onclick=\"convertToInteractive('df-2c830b0a-e0e1-4b19-896b-883cc3bb37d2')\"\n",
              "              title=\"Convert this dataframe to an interactive table.\"\n",
              "              style=\"display:none;\">\n",
              "        \n",
              "  <svg xmlns=\"http://www.w3.org/2000/svg\" height=\"24px\"viewBox=\"0 0 24 24\"\n",
              "       width=\"24px\">\n",
              "    <path d=\"M0 0h24v24H0V0z\" fill=\"none\"/>\n",
              "    <path d=\"M18.56 5.44l.94 2.06.94-2.06 2.06-.94-2.06-.94-.94-2.06-.94 2.06-2.06.94zm-11 1L8.5 8.5l.94-2.06 2.06-.94-2.06-.94L8.5 2.5l-.94 2.06-2.06.94zm10 10l.94 2.06.94-2.06 2.06-.94-2.06-.94-.94-2.06-.94 2.06-2.06.94z\"/><path d=\"M17.41 7.96l-1.37-1.37c-.4-.4-.92-.59-1.43-.59-.52 0-1.04.2-1.43.59L10.3 9.45l-7.72 7.72c-.78.78-.78 2.05 0 2.83L4 21.41c.39.39.9.59 1.41.59.51 0 1.02-.2 1.41-.59l7.78-7.78 2.81-2.81c.8-.78.8-2.07 0-2.86zM5.41 20L4 18.59l7.72-7.72 1.47 1.35L5.41 20z\"/>\n",
              "  </svg>\n",
              "      </button>\n",
              "      \n",
              "  <style>\n",
              "    .colab-df-container {\n",
              "      display:flex;\n",
              "      flex-wrap:wrap;\n",
              "      gap: 12px;\n",
              "    }\n",
              "\n",
              "    .colab-df-convert {\n",
              "      background-color: #E8F0FE;\n",
              "      border: none;\n",
              "      border-radius: 50%;\n",
              "      cursor: pointer;\n",
              "      display: none;\n",
              "      fill: #1967D2;\n",
              "      height: 32px;\n",
              "      padding: 0 0 0 0;\n",
              "      width: 32px;\n",
              "    }\n",
              "\n",
              "    .colab-df-convert:hover {\n",
              "      background-color: #E2EBFA;\n",
              "      box-shadow: 0px 1px 2px rgba(60, 64, 67, 0.3), 0px 1px 3px 1px rgba(60, 64, 67, 0.15);\n",
              "      fill: #174EA6;\n",
              "    }\n",
              "\n",
              "    [theme=dark] .colab-df-convert {\n",
              "      background-color: #3B4455;\n",
              "      fill: #D2E3FC;\n",
              "    }\n",
              "\n",
              "    [theme=dark] .colab-df-convert:hover {\n",
              "      background-color: #434B5C;\n",
              "      box-shadow: 0px 1px 3px 1px rgba(0, 0, 0, 0.15);\n",
              "      filter: drop-shadow(0px 1px 2px rgba(0, 0, 0, 0.3));\n",
              "      fill: #FFFFFF;\n",
              "    }\n",
              "  </style>\n",
              "\n",
              "      <script>\n",
              "        const buttonEl =\n",
              "          document.querySelector('#df-2c830b0a-e0e1-4b19-896b-883cc3bb37d2 button.colab-df-convert');\n",
              "        buttonEl.style.display =\n",
              "          google.colab.kernel.accessAllowed ? 'block' : 'none';\n",
              "\n",
              "        async function convertToInteractive(key) {\n",
              "          const element = document.querySelector('#df-2c830b0a-e0e1-4b19-896b-883cc3bb37d2');\n",
              "          const dataTable =\n",
              "            await google.colab.kernel.invokeFunction('convertToInteractive',\n",
              "                                                     [key], {});\n",
              "          if (!dataTable) return;\n",
              "\n",
              "          const docLinkHtml = 'Like what you see? Visit the ' +\n",
              "            '<a target=\"_blank\" href=https://colab.research.google.com/notebooks/data_table.ipynb>data table notebook</a>'\n",
              "            + ' to learn more about interactive tables.';\n",
              "          element.innerHTML = '';\n",
              "          dataTable['output_type'] = 'display_data';\n",
              "          await google.colab.output.renderOutput(dataTable, element);\n",
              "          const docLink = document.createElement('div');\n",
              "          docLink.innerHTML = docLinkHtml;\n",
              "          element.appendChild(docLink);\n",
              "        }\n",
              "      </script>\n",
              "    </div>\n",
              "  </div>\n",
              "  "
            ]
          },
          "metadata": {},
          "execution_count": 175
        }
      ],
      "source": [
        "dataset.describe()"
      ],
      "id": "d66c3418"
    },
    {
      "cell_type": "code",
      "execution_count": null,
      "metadata": {
        "colab": {
          "base_uri": "https://localhost:8080/"
        },
        "id": "65fbeb85",
        "outputId": "6b35dc56-e6a2-401d-a37a-23c3de20d9cd"
      },
      "outputs": [
        {
          "output_type": "stream",
          "name": "stdout",
          "text": [
            "No duplicated instances were found.\n"
          ]
        }
      ],
      "source": [
        "# Check for any duplicates  \n",
        "duplicates = dataset.duplicated().sum()\n",
        "if duplicates == 0:\n",
        "    print(\"No duplicated instances were found.\")\n",
        "else:\n",
        "    print(\"A total of \", duplicates, \" duplicates were found\")"
      ],
      "id": "65fbeb85"
    },
    {
      "cell_type": "code",
      "execution_count": null,
      "metadata": {
        "colab": {
          "base_uri": "https://localhost:8080/"
        },
        "id": "141ef231",
        "outputId": "e51e9630-38f9-4c38-a730-bca3841bbfb3"
      },
      "outputs": [
        {
          "output_type": "execute_result",
          "data": {
            "text/plain": [
              "array(['Dropout', 'Graduate', 'Enrolled'], dtype=object)"
            ]
          },
          "metadata": {},
          "execution_count": 177
        }
      ],
      "source": [
        "# Retrieve all unique target values\n",
        "dataset['Target'].unique()"
      ],
      "id": "141ef231"
    },
    {
      "cell_type": "markdown",
      "metadata": {
        "id": "4czUy1HRPpWV"
      },
      "source": [
        "# Data Visualization"
      ],
      "id": "4czUy1HRPpWV"
    },
    {
      "cell_type": "markdown",
      "metadata": {
        "id": "dZ-XVCqyPvIj"
      },
      "source": [
        "> by using `matplotlib.pyplot`\n",
        "the `*.hist()*` provide histogram for each feature"
      ],
      "id": "dZ-XVCqyPvIj"
    },
    {
      "cell_type": "code",
      "execution_count": null,
      "metadata": {
        "colab": {
          "base_uri": "https://localhost:8080/"
        },
        "id": "N-rus6I-RCUr",
        "outputId": "70392ee8-347b-40b1-9e8e-76e05a562121"
      },
      "outputs": [
        {
          "output_type": "execute_result",
          "data": {
            "text/plain": [
              "Graduate    2209\n",
              "Dropout     1421\n",
              "Enrolled     794\n",
              "Name: Target, dtype: int64"
            ]
          },
          "metadata": {},
          "execution_count": 178
        }
      ],
      "source": [
        "dataset['Target'].value_counts()"
      ],
      "id": "N-rus6I-RCUr"
    },
    {
      "cell_type": "code",
      "execution_count": null,
      "metadata": {
        "colab": {
          "base_uri": "https://localhost:8080/",
          "height": 423
        },
        "id": "8bfc9f44",
        "outputId": "6598115d-2a37-4b97-f204-d251e49a2f25"
      },
      "outputs": [
        {
          "output_type": "execute_result",
          "data": {
            "text/plain": [
              "<Axes: ylabel='Target'>"
            ]
          },
          "metadata": {},
          "execution_count": 179
        },
        {
          "output_type": "display_data",
          "data": {
            "text/plain": [
              "<Figure size 640x480 with 1 Axes>"
            ],
            "image/png": "[encoded data removed]"
          },
          "metadata": {}
        }
      ],
      "source": [
        "# Plot distribution of student's academic state(Target)\n",
        "dataset.Target.value_counts().plot.pie(\n",
        "    y='Target',\n",
        "    autopct='%1.0f%%'\n",
        ")"
      ],
      "id": "8bfc9f44"
    },
    {
      "cell_type": "markdown",
      "metadata": {
        "id": "7EOE9UVFSGsM"
      },
      "source": [
        "our target\n"
      ],
      "id": "7EOE9UVFSGsM"
    },
    {
      "cell_type": "code",
      "execution_count": null,
      "metadata": {
        "id": "4c567a9c"
      },
      "outputs": [],
      "source": [
        "# Change Target values to binary\n",
        "# 1 --> Dropouts\n",
        "# 0 --> Gradutes and enrolleds\n",
        "\n",
        "dataset['Target'] = dataset['Target'].map({\n",
        "    'Dropout':1,\n",
        "    'Enrolled':0,\n",
        "    'Graduate':0\n",
        "})"
      ],
      "id": "4c567a9c"
    },
    {
      "cell_type": "code",
      "execution_count": null,
      "metadata": {
        "colab": {
          "base_uri": "https://localhost:8080/",
          "height": 423
        },
        "id": "bfa044e0",
        "outputId": "4f771be2-9466-4e96-9978-48b9fcccb6cf"
      },
      "outputs": [
        {
          "output_type": "execute_result",
          "data": {
            "text/plain": [
              "<Axes: ylabel='Target'>"
            ]
          },
          "metadata": {},
          "execution_count": 181
        },
        {
          "output_type": "display_data",
          "data": {
            "text/plain": [
              "<Figure size 640x480 with 1 Axes>"
            ],
            "image/png": "[encoded data removed]"
          },
          "metadata": {}
        }
      ],
      "source": [
        "# Plot distribution of student's academic state(Target) after changes values\n",
        "\n",
        "dataset.Target.value_counts().plot.pie(\n",
        "    y='Target',\n",
        "    autopct='%1.0f%%'\n",
        ")"
      ],
      "id": "bfa044e0"
    },
    {
      "cell_type": "markdown",
      "metadata": {
        "id": "Yyr5iHwAguzz"
      },
      "source": [
        "> explination bussniss quition$$\n",
        "****graph \n",
        "\n",
        "\n"
      ],
      "id": "Yyr5iHwAguzz"
    },
    {
      "cell_type": "code",
      "execution_count": null,
      "metadata": {
        "colab": {
          "base_uri": "https://localhost:8080/"
        },
        "id": "_TUnFE_gf6A-",
        "outputId": "ef27d563-53d6-4c73-920b-67d2c0d82f0e"
      },
      "outputs": [
        {
          "output_type": "execute_result",
          "data": {
            "text/plain": [
              "Curricular units 2nd sem (grade)                 -0.571792\n",
              "Curricular units 2nd sem (approved)              -0.569500\n",
              "Curricular units 1st sem (grade)                 -0.480669\n",
              "Curricular units 1st sem (approved)              -0.479112\n",
              "Tuition fees up to date                          -0.429149\n",
              "Scholarship holder                               -0.245354\n",
              "Curricular units 2nd sem (evaluations)           -0.154999\n",
              "Curricular units 2nd sem (enrolled)              -0.141515\n",
              "Curricular units 1st sem (enrolled)              -0.124635\n",
              "Displaced                                        -0.107232\n",
              "Curricular units 1st sem (evaluations)           -0.090125\n",
              "Daytime/evening attendance                       -0.080499\n",
              "Father's occupation                              -0.079753\n",
              "Application order                                -0.070485\n",
              "Mother's occupation                              -0.069102\n",
              "GDP                                              -0.046319\n",
              "Curricular units 2nd sem (credited)              -0.033038\n",
              "Curricular units 1st sem (credited)              -0.029308\n",
              "International                                    -0.010360\n",
              "Nacionality                                      -0.001571\n",
              "Course                                           -0.000083\n",
              "Educational special needs                         0.002806\n",
              "Unemployment rate                                 0.012980\n",
              "Father's qualification                            0.016267\n",
              "Inflation rate                                    0.027826\n",
              "Curricular units 1st sem (without evaluations)    0.054230\n",
              "Mother's qualification                            0.059499\n",
              "Curricular units 2nd sem (without evaluations)    0.079901\n",
              "Previous qualification                            0.091590\n",
              "Marital status                                    0.093712\n",
              "Application mode                                  0.188908\n",
              "Gender                                            0.203983\n",
              "Debtor                                            0.229407\n",
              "Age at enrollment                                 0.254215\n",
              "Target                                            1.000000\n",
              "Name: Target, dtype: float64"
            ]
          },
          "metadata": {},
          "execution_count": 182
        }
      ],
      "source": [
        "# Display the correlation between independent variables and target\n",
        "dataset.corr()['Target'].sort_values()"
      ],
      "id": "_TUnFE_gf6A-"
    },
    {
      "cell_type": "code",
      "execution_count": null,
      "metadata": {
        "colab": {
          "base_uri": "https://localhost:8080/",
          "height": 461
        },
        "id": "b26226b7",
        "outputId": "67d94a02-94dd-4eb2-ab3c-2c408631414f"
      },
      "outputs": [
        {
          "output_type": "execute_result",
          "data": {
            "text/plain": [
              "<Axes: xlabel='Gender'>"
            ]
          },
          "metadata": {},
          "execution_count": 183
        },
        {
          "output_type": "display_data",
          "data": {
            "text/plain": [
              "<Figure size 640x480 with 1 Axes>"
            ],
            "image/png": "[encoded data removed]"
          },
          "metadata": {}
        }
      ],
      "source": [
        "# Plot gender and target relationship\n",
        "CrosstabResult=pd.crosstab(index=dataset['Gender'],columns=dataset['Target'])\n",
        "CrosstabResult.plot.bar()"
      ],
      "id": "b26226b7"
    },
    {
      "cell_type": "code",
      "execution_count": null,
      "metadata": {
        "colab": {
          "base_uri": "https://localhost:8080/",
          "height": 479
        },
        "id": "a0209366",
        "outputId": "e5355ef3-82ba-4866-d99d-ed4ceb0533a9"
      },
      "outputs": [
        {
          "output_type": "execute_result",
          "data": {
            "text/plain": [
              "<Figure size 900x400 with 0 Axes>"
            ]
          },
          "metadata": {},
          "execution_count": 184
        },
        {
          "output_type": "display_data",
          "data": {
            "text/plain": [
              "<Figure size 640x480 with 1 Axes>"
            ],
            "image/png": "[encoded data removed]"
          },
          "metadata": {}
        },
        {
          "output_type": "display_data",
          "data": {
            "text/plain": [
              "<Figure size 900x400 with 0 Axes>"
            ]
          },
          "metadata": {}
        }
      ],
      "source": [
        "# Plot Marital status and target relationship\n",
        "CrosstabResult=pd.crosstab(index=dataset['Marital status'],columns=dataset['Target'])\n",
        "CrosstabResult.plot.bar()\n",
        "\n",
        "plt.figure(figsize=(9,4))\n"
      ],
      "id": "a0209366"
    },
    {
      "cell_type": "code",
      "execution_count": null,
      "metadata": {
        "colab": {
          "base_uri": "https://localhost:8080/",
          "height": 470
        },
        "id": "1c97752c",
        "outputId": "85ade457-8ad2-4dd9-beca-dc589b2517c3"
      },
      "outputs": [
        {
          "output_type": "execute_result",
          "data": {
            "text/plain": [
              "<Axes: xlabel='Application mode'>"
            ]
          },
          "metadata": {},
          "execution_count": 185
        },
        {
          "output_type": "display_data",
          "data": {
            "text/plain": [
              "<Figure size 640x480 with 1 Axes>"
            ],
            "image/png": "[encoded data removed]"
          },
          "metadata": {}
        }
      ],
      "source": [
        "# Plot Application mode and target relationship\n",
        "CrosstabResult=pd.crosstab(index=dataset['Application mode'],columns=dataset['Target'])\n",
        "CrosstabResult.plot.bar()"
      ],
      "id": "1c97752c"
    },
    {
      "cell_type": "code",
      "execution_count": null,
      "metadata": {
        "colab": {
          "base_uri": "https://localhost:8080/",
          "height": 461
        },
        "id": "QqRwfbJwhFpE",
        "outputId": "14bf374f-7b10-4b37-de90-18d1b04b3f24"
      },
      "outputs": [
        {
          "output_type": "execute_result",
          "data": {
            "text/plain": [
              "<Axes: xlabel='Application order'>"
            ]
          },
          "metadata": {},
          "execution_count": 186
        },
        {
          "output_type": "display_data",
          "data": {
            "text/plain": [
              "<Figure size 640x480 with 1 Axes>"
            ],
            "image/png": "[encoded data removed]"
          },
          "metadata": {}
        }
      ],
      "source": [
        "# Plot Application order and target relationship\n",
        "CrosstabResult=pd.crosstab(index=dataset['Application order'],columns=dataset['Target'])\n",
        "CrosstabResult.plot.bar()"
      ],
      "id": "QqRwfbJwhFpE"
    },
    {
      "cell_type": "code",
      "execution_count": null,
      "metadata": {
        "colab": {
          "base_uri": "https://localhost:8080/",
          "height": 470
        },
        "id": "pNDNfaWLhHqt",
        "outputId": "36dd7d79-1925-44ee-efeb-2a7d6c9232f0"
      },
      "outputs": [
        {
          "output_type": "execute_result",
          "data": {
            "text/plain": [
              "<Axes: xlabel='Course'>"
            ]
          },
          "metadata": {},
          "execution_count": 187
        },
        {
          "output_type": "display_data",
          "data": {
            "text/plain": [
              "<Figure size 640x480 with 1 Axes>"
            ],
            "image/png": "[encoded data removed]"
          },
          "metadata": {}
        }
      ],
      "source": [
        "# Plot Course and target relationship\n",
        "CrosstabResult=pd.crosstab(index=dataset['Course'],columns=dataset['Target'])\n",
        "CrosstabResult.plot.bar()"
      ],
      "id": "pNDNfaWLhHqt"
    },
    {
      "cell_type": "code",
      "execution_count": null,
      "metadata": {
        "colab": {
          "base_uri": "https://localhost:8080/",
          "height": 461
        },
        "id": "aZDDamIYhLIg",
        "outputId": "f80b7a95-1dec-43f6-844a-5835bec0e011"
      },
      "outputs": [
        {
          "output_type": "execute_result",
          "data": {
            "text/plain": [
              "<Axes: xlabel='Daytime/evening attendance'>"
            ]
          },
          "metadata": {},
          "execution_count": 188
        },
        {
          "output_type": "display_data",
          "data": {
            "text/plain": [
              "<Figure size 640x480 with 1 Axes>"
            ],
            "image/png": "[encoded data removed]"
          },
          "metadata": {}
        }
      ],
      "source": [
        "# Plot Daytime/evening attendance and target relationship\n",
        "CrosstabResult=pd.crosstab(index=dataset['Daytime/evening attendance'],columns=dataset['Target'])\n",
        "CrosstabResult.plot.bar()"
      ],
      "id": "aZDDamIYhLIg"
    },
    {
      "cell_type": "code",
      "execution_count": null,
      "metadata": {
        "colab": {
          "base_uri": "https://localhost:8080/",
          "height": 461
        },
        "id": "IuJ2hbPihkA9",
        "outputId": "4cb08842-0c18-40c9-dbda-5ee6a8bb611e"
      },
      "outputs": [
        {
          "output_type": "execute_result",
          "data": {
            "text/plain": [
              "<Axes: xlabel='Debtor'>"
            ]
          },
          "metadata": {},
          "execution_count": 189
        },
        {
          "output_type": "display_data",
          "data": {
            "text/plain": [
              "<Figure size 640x480 with 1 Axes>"
            ],
            "image/png": "[encoded data removed]"
          },
          "metadata": {}
        }
      ],
      "source": [
        "# Plot Debtor and target relationship\n",
        "CrosstabResult=pd.crosstab(index=dataset[\"Debtor\"],columns=dataset['Target'])\n",
        "CrosstabResult.plot.bar()"
      ],
      "id": "IuJ2hbPihkA9"
    },
    {
      "cell_type": "code",
      "execution_count": null,
      "metadata": {
        "colab": {
          "base_uri": "https://localhost:8080/",
          "height": 461
        },
        "id": "3HXw25vEhmFk",
        "outputId": "6a45dffb-11d7-4eea-d185-c0cc5e1b13e2"
      },
      "outputs": [
        {
          "output_type": "execute_result",
          "data": {
            "text/plain": [
              "<Axes: xlabel='Tuition fees up to date'>"
            ]
          },
          "metadata": {},
          "execution_count": 190
        },
        {
          "output_type": "display_data",
          "data": {
            "text/plain": [
              "<Figure size 640x480 with 1 Axes>"
            ],
            "image/png": "[encoded data removed]"
          },
          "metadata": {}
        }
      ],
      "source": [
        "# Plot Tuition fees up to date and target relationship\n",
        "CrosstabResult=pd.crosstab(index=dataset[\"Tuition fees up to date\"],columns=dataset['Target'])\n",
        "CrosstabResult.plot.bar()"
      ],
      "id": "3HXw25vEhmFk"
    },
    {
      "cell_type": "code",
      "execution_count": null,
      "metadata": {
        "colab": {
          "base_uri": "https://localhost:8080/",
          "height": 461
        },
        "id": "rw5hPXmhhvLS",
        "outputId": "f75446a2-7196-4327-fbe6-c4fe21a853ed"
      },
      "outputs": [
        {
          "output_type": "execute_result",
          "data": {
            "text/plain": [
              "<Axes: xlabel='Scholarship holder'>"
            ]
          },
          "metadata": {},
          "execution_count": 191
        },
        {
          "output_type": "display_data",
          "data": {
            "text/plain": [
              "<Figure size 640x480 with 1 Axes>"
            ],
            "image/png": "[encoded data removed]"
          },
          "metadata": {}
        }
      ],
      "source": [
        "# Plot Scholarship holder and target relationship\n",
        "CrosstabResult=pd.crosstab(index=dataset[\"Scholarship holder\"],columns=dataset['Target'])\n",
        "CrosstabResult.plot.bar()"
      ],
      "id": "rw5hPXmhhvLS"
    },
    {
      "cell_type": "code",
      "execution_count": null,
      "metadata": {
        "colab": {
          "base_uri": "https://localhost:8080/",
          "height": 461
        },
        "id": "zRMcVxmR9zsD",
        "outputId": "e9144bd2-44d3-442a-bfb1-0095de1e992b"
      },
      "outputs": [
        {
          "output_type": "execute_result",
          "data": {
            "text/plain": [
              "<Axes: xlabel='Displaced'>"
            ]
          },
          "metadata": {},
          "execution_count": 192
        },
        {
          "output_type": "display_data",
          "data": {
            "text/plain": [
              "<Figure size 640x480 with 1 Axes>"
            ],
            "image/png": "[encoded data removed]"
          },
          "metadata": {}
        }
      ],
      "source": [
        "CrosstabResult=pd.crosstab(index=dataset[\"Displaced\"],columns=dataset['Target'])\n",
        "CrosstabResult.plot.bar()"
      ],
      "id": "zRMcVxmR9zsD"
    },
    {
      "cell_type": "code",
      "execution_count": null,
      "metadata": {
        "colab": {
          "base_uri": "https://localhost:8080/",
          "height": 470
        },
        "id": "s1SHgtsVhyqg",
        "outputId": "10295a42-57cf-4902-b5ce-065858020ecf"
      },
      "outputs": [
        {
          "output_type": "execute_result",
          "data": {
            "text/plain": [
              "<Axes: xlabel='Age at enrollment'>"
            ]
          },
          "metadata": {},
          "execution_count": 193
        },
        {
          "output_type": "display_data",
          "data": {
            "text/plain": [
              "<Figure size 640x480 with 1 Axes>"
            ],
            "image/png": "[encoded data removed]"
          },
          "metadata": {}
        }
      ],
      "source": [
        "# Plot Age at enrollment and target relationship\n",
        "CrosstabResult=pd.crosstab(index=dataset[\"Age at enrollment\"],columns=dataset['Target'])\n",
        "CrosstabResult.plot.bar()"
      ],
      "id": "s1SHgtsVhyqg"
    },
    {
      "cell_type": "code",
      "execution_count": null,
      "metadata": {
        "colab": {
          "base_uri": "https://localhost:8080/",
          "height": 455
        },
        "id": "Wt1mCwXEo1CG",
        "outputId": "08289580-3fd4-4f8f-9180-8ed58f5a3906"
      },
      "outputs": [
        {
          "output_type": "execute_result",
          "data": {
            "text/plain": [
              "Target                      0    1\n",
              "Gender Age at enrollment          \n",
              "0      17                   3    0\n",
              "       18                 668  121\n",
              "       19                 521  129\n",
              "       20                 333   70\n",
              "       21                 149   53\n",
              "...                       ...  ...\n",
              "1      58                   0    1\n",
              "       59                   0    1\n",
              "       60                   1    0\n",
              "       61                   0    1\n",
              "       70                   0    1\n",
              "\n",
              "[88 rows x 2 columns]"
            ],
            "text/html": [
              "\n",
              "  <div id=\"df-a9ac13b1-49ec-4fc1-ba01-c726307c395b\">\n",
              "    <div class=\"colab-df-container\">\n",
              "      <div>\n",
              "<style scoped>\n",
              "    .dataframe tbody tr th:only-of-type {\n",
              "        vertical-align: middle;\n",
              "    }\n",
              "\n",
              "    .dataframe tbody tr th {\n",
              "        vertical-align: top;\n",
              "    }\n",
              "\n",
              "    .dataframe thead th {\n",
              "        text-align: right;\n",
              "    }\n",
              "</style>\n",
              "<table border=\"1\" class=\"dataframe\">\n",
              "  <thead>\n",
              "    <tr style=\"text-align: right;\">\n",
              "      <th></th>\n",
              "      <th>Target</th>\n",
              "      <th>0</th>\n",
              "      <th>1</th>\n",
              "    </tr>\n",
              "    <tr>\n",
              "      <th>Gender</th>\n",
              "      <th>Age at enrollment</th>\n",
              "      <th></th>\n",
              "      <th></th>\n",
              "    </tr>\n",
              "  </thead>\n",
              "  <tbody>\n",
              "    <tr>\n",
              "      <th rowspan=\"5\" valign=\"top\">0</th>\n",
              "      <th>17</th>\n",
              "      <td>3</td>\n",
              "      <td>0</td>\n",
              "    </tr>\n",
              "    <tr>\n",
              "      <th>18</th>\n",
              "      <td>668</td>\n",
              "      <td>121</td>\n",
              "    </tr>\n",
              "    <tr>\n",
              "      <th>19</th>\n",
              "      <td>521</td>\n",
              "      <td>129</td>\n",
              "    </tr>\n",
              "    <tr>\n",
              "      <th>20</th>\n",
              "      <td>333</td>\n",
              "      <td>70</td>\n",
              "    </tr>\n",
              "    <tr>\n",
              "      <th>21</th>\n",
              "      <td>149</td>\n",
              "      <td>53</td>\n",
              "    </tr>\n",
              "    <tr>\n",
              "      <th>...</th>\n",
              "      <th>...</th>\n",
              "      <td>...</td>\n",
              "      <td>...</td>\n",
              "    </tr>\n",
              "    <tr>\n",
              "      <th rowspan=\"5\" valign=\"top\">1</th>\n",
              "      <th>58</th>\n",
              "      <td>0</td>\n",
              "      <td>1</td>\n",
              "    </tr>\n",
              "    <tr>\n",
              "      <th>59</th>\n",
              "      <td>0</td>\n",
              "      <td>1</td>\n",
              "    </tr>\n",
              "    <tr>\n",
              "      <th>60</th>\n",
              "      <td>1</td>\n",
              "      <td>0</td>\n",
              "    </tr>\n",
              "    <tr>\n",
              "      <th>61</th>\n",
              "      <td>0</td>\n",
              "      <td>1</td>\n",
              "    </tr>\n",
              "    <tr>\n",
              "      <th>70</th>\n",
              "      <td>0</td>\n",
              "      <td>1</td>\n",
              "    </tr>\n",
              "  </tbody>\n",
              "</table>\n",
              "<p>88 rows × 2 columns</p>\n",
              "</div>\n",
              "      <button class=\"colab-df-convert\" onclick=\"convertToInteractive('df-a9ac13b1-49ec-4fc1-ba01-c726307c395b')\"\n",
              "              title=\"Convert this dataframe to an interactive table.\"\n",
              "              style=\"display:none;\">\n",
              "        \n",
              "  <svg xmlns=\"http://www.w3.org/2000/svg\" height=\"24px\"viewBox=\"0 0 24 24\"\n",
              "       width=\"24px\">\n",
              "    <path d=\"M0 0h24v24H0V0z\" fill=\"none\"/>\n",
              "    <path d=\"M18.56 5.44l.94 2.06.94-2.06 2.06-.94-2.06-.94-.94-2.06-.94 2.06-2.06.94zm-11 1L8.5 8.5l.94-2.06 2.06-.94-2.06-.94L8.5 2.5l-.94 2.06-2.06.94zm10 10l.94 2.06.94-2.06 2.06-.94-2.06-.94-.94-2.06-.94 2.06-2.06.94z\"/><path d=\"M17.41 7.96l-1.37-1.37c-.4-.4-.92-.59-1.43-.59-.52 0-1.04.2-1.43.59L10.3 9.45l-7.72 7.72c-.78.78-.78 2.05 0 2.83L4 21.41c.39.39.9.59 1.41.59.51 0 1.02-.2 1.41-.59l7.78-7.78 2.81-2.81c.8-.78.8-2.07 0-2.86zM5.41 20L4 18.59l7.72-7.72 1.47 1.35L5.41 20z\"/>\n",
              "  </svg>\n",
              "      </button>\n",
              "      \n",
              "  <style>\n",
              "    .colab-df-container {\n",
              "      display:flex;\n",
              "      flex-wrap:wrap;\n",
              "      gap: 12px;\n",
              "    }\n",
              "\n",
              "    .colab-df-convert {\n",
              "      background-color: #E8F0FE;\n",
              "      border: none;\n",
              "      border-radius: 50%;\n",
              "      cursor: pointer;\n",
              "      display: none;\n",
              "      fill: #1967D2;\n",
              "      height: 32px;\n",
              "      padding: 0 0 0 0;\n",
              "      width: 32px;\n",
              "    }\n",
              "\n",
              "    .colab-df-convert:hover {\n",
              "      background-color: #E2EBFA;\n",
              "      box-shadow: 0px 1px 2px rgba(60, 64, 67, 0.3), 0px 1px 3px 1px rgba(60, 64, 67, 0.15);\n",
              "      fill: #174EA6;\n",
              "    }\n",
              "\n",
              "    [theme=dark] .colab-df-convert {\n",
              "      background-color: #3B4455;\n",
              "      fill: #D2E3FC;\n",
              "    }\n",
              "\n",
              "    [theme=dark] .colab-df-convert:hover {\n",
              "      background-color: #434B5C;\n",
              "      box-shadow: 0px 1px 3px 1px rgba(0, 0, 0, 0.15);\n",
              "      filter: drop-shadow(0px 1px 2px rgba(0, 0, 0, 0.3));\n",
              "      fill: #FFFFFF;\n",
              "    }\n",
              "  </style>\n",
              "\n",
              "      <script>\n",
              "        const buttonEl =\n",
              "          document.querySelector('#df-a9ac13b1-49ec-4fc1-ba01-c726307c395b button.colab-df-convert');\n",
              "        buttonEl.style.display =\n",
              "          google.colab.kernel.accessAllowed ? 'block' : 'none';\n",
              "\n",
              "        async function convertToInteractive(key) {\n",
              "          const element = document.querySelector('#df-a9ac13b1-49ec-4fc1-ba01-c726307c395b');\n",
              "          const dataTable =\n",
              "            await google.colab.kernel.invokeFunction('convertToInteractive',\n",
              "                                                     [key], {});\n",
              "          if (!dataTable) return;\n",
              "\n",
              "          const docLinkHtml = 'Like what you see? Visit the ' +\n",
              "            '<a target=\"_blank\" href=https://colab.research.google.com/notebooks/data_table.ipynb>data table notebook</a>'\n",
              "            + ' to learn more about interactive tables.';\n",
              "          element.innerHTML = '';\n",
              "          dataTable['output_type'] = 'display_data';\n",
              "          await google.colab.output.renderOutput(dataTable, element);\n",
              "          const docLink = document.createElement('div');\n",
              "          docLink.innerHTML = docLinkHtml;\n",
              "          element.appendChild(docLink);\n",
              "        }\n",
              "      </script>\n",
              "    </div>\n",
              "  </div>\n",
              "  "
            ]
          },
          "metadata": {},
          "execution_count": 194
        }
      ],
      "source": [
        "from operator import index\n",
        "\n",
        "pd.crosstab([dataset['Gender'],dataset['Age at enrollment']],dataset['Target'] )"
      ],
      "id": "Wt1mCwXEo1CG"
    },
    {
      "cell_type": "code",
      "execution_count": null,
      "metadata": {
        "colab": {
          "base_uri": "https://localhost:8080/",
          "height": 470
        },
        "id": "arGCdTKgh_1u",
        "outputId": "d84bbfbd-1be7-4fe7-9f79-4d593d12d776"
      },
      "outputs": [
        {
          "output_type": "execute_result",
          "data": {
            "text/plain": [
              "<Axes: xlabel='Curricular units 1st sem (approved)'>"
            ]
          },
          "metadata": {},
          "execution_count": 195
        },
        {
          "output_type": "display_data",
          "data": {
            "text/plain": [
              "<Figure size 640x480 with 1 Axes>"
            ],
            "image/png": "[encoded data removed]"
          },
          "metadata": {}
        }
      ],
      "source": [
        "# Plot Curricular units 1st sem (approved) and target relationship\n",
        "CrosstabResult=pd.crosstab(index=dataset[\"Curricular units 1st sem (approved)\"],columns=dataset['Target'])\n",
        "CrosstabResult.plot.bar()"
      ],
      "id": "arGCdTKgh_1u"
    },
    {
      "cell_type": "code",
      "execution_count": null,
      "metadata": {
        "colab": {
          "base_uri": "https://localhost:8080/",
          "height": 470
        },
        "id": "hUmrRul5iHnl",
        "outputId": "57b9da1e-2762-4c13-c76e-b2c77c53463b"
      },
      "outputs": [
        {
          "output_type": "execute_result",
          "data": {
            "text/plain": [
              "<Axes: xlabel='Curricular units 2nd sem (evaluations)'>"
            ]
          },
          "metadata": {},
          "execution_count": 196
        },
        {
          "output_type": "display_data",
          "data": {
            "text/plain": [
              "<Figure size 640x480 with 1 Axes>"
            ],
            "image/png": "[encoded data removed]"
          },
          "metadata": {}
        }
      ],
      "source": [
        "# Plot Curricular units 2nd sem (evaluations) and target relationship\n",
        "CrosstabResult=pd.crosstab(index=dataset[\"Curricular units 2nd sem (evaluations)\"],columns=dataset['Target'])\n",
        "CrosstabResult.plot.bar()"
      ],
      "id": "hUmrRul5iHnl"
    },
    {
      "cell_type": "code",
      "execution_count": null,
      "metadata": {
        "colab": {
          "base_uri": "https://localhost:8080/",
          "height": 470
        },
        "id": "w58ygo7BiJig",
        "outputId": "5626d93a-15c6-4273-a0a7-5ab06f5526d0"
      },
      "outputs": [
        {
          "output_type": "execute_result",
          "data": {
            "text/plain": [
              "<Axes: xlabel='Curricular units 2nd sem (approved)'>"
            ]
          },
          "metadata": {},
          "execution_count": 197
        },
        {
          "output_type": "display_data",
          "data": {
            "text/plain": [
              "<Figure size 640x480 with 1 Axes>"
            ],
            "image/png": "[encoded data removed]"
          },
          "metadata": {}
        }
      ],
      "source": [
        "# Plot Curricular units 2nd sem (approved) and target relationship\n",
        "CrosstabResult=pd.crosstab(index=dataset[\"Curricular units 2nd sem (approved)\"],columns=dataset['Target'])\n",
        "CrosstabResult.plot.bar()"
      ],
      "id": "w58ygo7BiJig"
    },
    {
      "cell_type": "code",
      "execution_count": null,
      "metadata": {
        "colab": {
          "base_uri": "https://localhost:8080/",
          "height": 423
        },
        "id": "bnad5psFiouO",
        "outputId": "445f8b51-ee2d-4ad4-ec24-06d0d9ede9ad"
      },
      "outputs": [
        {
          "output_type": "execute_result",
          "data": {
            "text/plain": [
              "<Axes: ylabel='Gender'>"
            ]
          },
          "metadata": {},
          "execution_count": 198
        },
        {
          "output_type": "display_data",
          "data": {
            "text/plain": [
              "<Figure size 640x480 with 1 Axes>"
            ],
            "image/png": "[encoded data removed]"
          },
          "metadata": {}
        }
      ],
      "source": [
        "# Plot distribution of student's genders\n",
        "# 0 --> Female\n",
        "# 1 --> Male\n",
        "dataset.Gender.value_counts().plot.pie(\n",
        "    y='Gender',\n",
        "    autopct='%1.0f%%'\n",
        ")\n"
      ],
      "id": "bnad5psFiouO"
    },
    {
      "cell_type": "code",
      "execution_count": null,
      "metadata": {
        "colab": {
          "base_uri": "https://localhost:8080/",
          "height": 423
        },
        "id": "_b-O28YEiqu0",
        "outputId": "6e279027-b817-4503-df92-733b25bc3404"
      },
      "outputs": [
        {
          "output_type": "execute_result",
          "data": {
            "text/plain": [
              "<Axes: ylabel='Debtor'>"
            ]
          },
          "metadata": {},
          "execution_count": 199
        },
        {
          "output_type": "display_data",
          "data": {
            "text/plain": [
              "<Figure size 640x480 with 1 Axes>"
            ],
            "image/png": "[encoded data removed]"
          },
          "metadata": {}
        }
      ],
      "source": [
        "# Plot distribution of debtors\n",
        "\n",
        "dataset['Debtor'].value_counts().plot.pie(\n",
        "    y='Debtor',\n",
        "    autopct='%1.0f%%'\n",
        ")"
      ],
      "id": "_b-O28YEiqu0"
    },
    {
      "cell_type": "code",
      "execution_count": null,
      "metadata": {
        "colab": {
          "base_uri": "https://localhost:8080/",
          "height": 423
        },
        "id": "lJxWJFuGiu1J",
        "outputId": "ffb2eb4f-98cf-4607-9a8f-25812172950a"
      },
      "outputs": [
        {
          "output_type": "execute_result",
          "data": {
            "text/plain": [
              "<Axes: ylabel='Scholarship holder'>"
            ]
          },
          "metadata": {},
          "execution_count": 200
        },
        {
          "output_type": "display_data",
          "data": {
            "text/plain": [
              "<Figure size 640x480 with 1 Axes>"
            ],
            "image/png": "[encoded data removed]"
          },
          "metadata": {}
        }
      ],
      "source": [
        "# Plot distribution of student's Scholarship holder\n",
        "\n",
        "dataset['Scholarship holder'].value_counts().plot.pie(\n",
        "    y='Scholarship holder',\n",
        "    autopct='%1.0f%%'\n",
        ")"
      ],
      "id": "lJxWJFuGiu1J"
    },
    {
      "cell_type": "code",
      "execution_count": null,
      "metadata": {
        "colab": {
          "base_uri": "https://localhost:8080/",
          "height": 470
        },
        "id": "XF1cnTZHPEfy",
        "outputId": "1fbd20ad-b5f7-47ad-c0a3-33a2143a9e50"
      },
      "outputs": [
        {
          "output_type": "execute_result",
          "data": {
            "text/plain": [
              "<Axes: xlabel='Age at enrollment'>"
            ]
          },
          "metadata": {},
          "execution_count": 201
        },
        {
          "output_type": "display_data",
          "data": {
            "text/plain": [
              "<Figure size 640x480 with 1 Axes>"
            ],
            "image/png": "[encoded data removed]"
          },
          "metadata": {}
        }
      ],
      "source": [
        "# Plot distribution of student within age range between 17-25\n",
        "\n",
        "population_1 = dataset.loc[(dataset['Age at enrollment'] <= 25)]\n",
        "CrosstabResult=pd.crosstab(index=population_1[\"Age at enrollment\"],columns=population_1['Target'])\n",
        "CrosstabResult.plot.bar()"
      ],
      "id": "XF1cnTZHPEfy"
    },
    {
      "cell_type": "code",
      "execution_count": null,
      "metadata": {
        "colab": {
          "base_uri": "https://localhost:8080/",
          "height": 470
        },
        "id": "XFwYr8LaPU1i",
        "outputId": "f416f902-9eb4-4d4e-89e0-ea187bf3d46a"
      },
      "outputs": [
        {
          "output_type": "execute_result",
          "data": {
            "text/plain": [
              "<Axes: xlabel='Age at enrollment'>"
            ]
          },
          "metadata": {},
          "execution_count": 202
        },
        {
          "output_type": "display_data",
          "data": {
            "text/plain": [
              "<Figure size 640x480 with 1 Axes>"
            ],
            "image/png": "[encoded data removed]"
          },
          "metadata": {}
        }
      ],
      "source": [
        "# Plot distribution of student within age range between 26-40 \n",
        "\n",
        "population_2 = dataset.loc[(dataset['Age at enrollment'] >25) & (dataset['Age at enrollment'] <= 40)]\n",
        "CrosstabResult=pd.crosstab(index=population_2[\"Age at enrollment\"],columns=population_2['Target'])\n",
        "CrosstabResult.plot.bar()"
      ],
      "id": "XFwYr8LaPU1i"
    },
    {
      "cell_type": "code",
      "execution_count": null,
      "metadata": {
        "colab": {
          "base_uri": "https://localhost:8080/",
          "height": 483
        },
        "id": "13nfFppRPYSq",
        "outputId": "218f1726-eac7-44b9-b8c4-54a8c3817614"
      },
      "outputs": [
        {
          "output_type": "execute_result",
          "data": {
            "text/plain": [
              "<Axes: xlabel='Unemployment rate'>"
            ]
          },
          "metadata": {},
          "execution_count": 203
        },
        {
          "output_type": "display_data",
          "data": {
            "text/plain": [
              "<Figure size 640x480 with 1 Axes>"
            ],
            "image/png": "[encoded data removed]"
          },
          "metadata": {}
        }
      ],
      "source": [
        "# Plot distribution of student within age range between 26-40 and how the unemployment rate impacts their decision\n",
        "\n",
        "population_3 = dataset.loc[(dataset['Age at enrollment'] >25) & (dataset['Age at enrollment'] <= 40)]\n",
        "CrosstabResult=pd.crosstab(index=population_3[\"Unemployment rate\"],columns=population_3['Target'])\n",
        "CrosstabResult.plot.bar()"
      ],
      "id": "13nfFppRPYSq"
    },
    {
      "cell_type": "markdown",
      "metadata": {
        "id": "EeetBJwncEUJ"
      },
      "source": [
        "# Training and Testing data split"
      ],
      "id": "EeetBJwncEUJ"
    },
    {
      "cell_type": "markdown",
      "metadata": {
        "id": "-4jMG9CJZvWS"
      },
      "source": [
        "> Split the dataset into x and y variables.also, split attributes/variables to features and target variables"
      ],
      "id": "-4jMG9CJZvWS"
    },
    {
      "cell_type": "code",
      "execution_count": null,
      "metadata": {
        "id": "fe7293ad"
      },
      "outputs": [],
      "source": [
        "X = dataset.drop(['Target'], axis = 1)\n",
        "y = dataset['Target']"
      ],
      "id": "fe7293ad"
    },
    {
      "cell_type": "markdown",
      "metadata": {
        "id": "at9H1vWzauPX"
      },
      "source": [
        ">  Split our dataset into 80% for training and 20% for testing"
      ],
      "id": "at9H1vWzauPX"
    },
    {
      "cell_type": "code",
      "execution_count": null,
      "metadata": {
        "id": "6dcd1c91"
      },
      "outputs": [],
      "source": [
        "X_train, X_test, y_train, y_test = train_test_split(X, y, test_size=0.2, random_state = 0)"
      ],
      "id": "6dcd1c91"
    },
    {
      "cell_type": "markdown",
      "metadata": {
        "id": "RhjY0kUubmpD"
      },
      "source": [
        "> Standardiztion"
      ],
      "id": "RhjY0kUubmpD"
    },
    {
      "cell_type": "code",
      "execution_count": null,
      "metadata": {
        "colab": {
          "base_uri": "https://localhost:8080/"
        },
        "id": "f0666422",
        "outputId": "f18d1129-05c2-435b-b7a3-55f6051f1a93"
      },
      "outputs": [
        {
          "output_type": "execute_result",
          "data": {
            "text/plain": [
              "array([[-0.29725546,  0.96605096, -0.56054314, ...,  1.73625503,\n",
              "        -0.67598062, -0.40939756],\n",
              "       [-0.29725546,  1.53118198, -0.56054314, ...,  1.73625503,\n",
              "        -0.67598062, -0.40939756],\n",
              "       [ 1.37522002,  0.96605096, -0.56054314, ...,  1.47323145,\n",
              "         1.13532153, -1.79047708],\n",
              "       ...,\n",
              "       [-0.29725546, -1.10609614,  0.9560946 , ...,  0.30841274,\n",
              "        -0.53107645,  0.78255323],\n",
              "       [-0.29725546, -1.10609614, -0.56054314, ...,  1.47323145,\n",
              "         1.13532153, -1.79047708],\n",
              "       [-0.29725546, -1.10609614, -0.56054314, ...,  0.42113714,\n",
              "         1.7873903 , -0.75246827]])"
            ]
          },
          "metadata": {},
          "execution_count": 206
        }
      ],
      "source": [
        "scale = StandardScaler()\n",
        "scaled_x_train = scale.fit_transform(X_train)\n",
        "scaled_x_test = scale.fit_transform(X_test)\n",
        "scaled_x_train"
      ],
      "id": "f0666422"
    },
    {
      "cell_type": "markdown",
      "metadata": {
        "id": "jID-s_CJbugo"
      },
      "source": [
        "# Training and evaluting model"
      ],
      "id": "jID-s_CJbugo"
    },
    {
      "cell_type": "markdown",
      "metadata": {
        "id": "VSgZRCTud05t"
      },
      "source": [
        "> In this section , we choose # supervised learning that is appropriate for this problem and it is availble in `scikit-learn` and ..., we choose this model based on common reasoreces and reach paper"
      ],
      "id": "VSgZRCTud05t"
    },
    {
      "cell_type": "markdown",
      "metadata": {
        "id": "4wJ_scoii8S3"
      },
      "source": [
        "#KNN model"
      ],
      "id": "4wJ_scoii8S3"
    },
    {
      "cell_type": "markdown",
      "source": [
        "> Create a KNN model with k=3 and minkowski with a power of two"
      ],
      "metadata": {
        "id": "7xXoAicJ5uwb"
      },
      "id": "7xXoAicJ5uwb"
    },
    {
      "cell_type": "code",
      "execution_count": null,
      "metadata": {
        "id": "705307c8"
      },
      "outputs": [],
      "source": [
        "knn = KNeighborsClassifier(n_neighbors=3, metric = 'minkowski')\n",
        "knn.fit(scaled_x_train, y_train)\n",
        "y_pred = knn.predict(scaled_x_test)"
      ],
      "id": "705307c8"
    },
    {
      "cell_type": "markdown",
      "source": [
        ">Reoprting our model preformance and classification accuracy\n"
      ],
      "metadata": {
        "id": "5EtrDAZg6Q1L"
      },
      "id": "5EtrDAZg6Q1L"
    },
    {
      "cell_type": "code",
      "execution_count": null,
      "metadata": {
        "colab": {
          "base_uri": "https://localhost:8080/"
        },
        "id": "6e292518",
        "outputId": "688c2cdd-5ec6-4abe-eb7e-5be0ad83bf30"
      },
      "outputs": [
        {
          "output_type": "stream",
          "name": "stdout",
          "text": [
            "KNN accuracy:  0.8124293785310734\n",
            "              precision    recall  f1-score   support\n",
            "\n",
            "           0       0.83      0.91      0.87       601\n",
            "           1       0.75      0.62      0.68       284\n",
            "\n",
            "    accuracy                           0.81       885\n",
            "   macro avg       0.79      0.76      0.77       885\n",
            "weighted avg       0.81      0.81      0.81       885\n",
            "\n"
          ]
        }
      ],
      "source": [
        "print(\"KNN accuracy: \",accuracy_score(y_test,y_pred))\n",
        "print(classification_report(y_test, y_pred))"
      ],
      "id": "6e292518"
    },
    {
      "cell_type": "markdown",
      "source": [
        "> Confusion matrix"
      ],
      "metadata": {
        "id": "gq8d3_F86bKR"
      },
      "id": "gq8d3_F86bKR"
    },
    {
      "cell_type": "code",
      "execution_count": null,
      "metadata": {
        "colab": {
          "base_uri": "https://localhost:8080/",
          "height": 599
        },
        "id": "jbQivrdrwMlo",
        "outputId": "59cc6869-6ec6-443f-efa3-b6576c626942"
      },
      "outputs": [
        {
          "output_type": "stream",
          "name": "stdout",
          "text": [
            "Confusion matrix\n",
            " [[544  57]\n",
            " [109 175]]\n"
          ]
        },
        {
          "output_type": "execute_result",
          "data": {
            "text/plain": [
              "[Text(0, 0.5, 'False'), Text(0, 1.5, 'True')]"
            ]
          },
          "metadata": {},
          "execution_count": 209
        },
        {
          "output_type": "display_data",
          "data": {
            "text/plain": [
              "<Figure size 640x480 with 2 Axes>"
            ],
            "image/png": "[encoded data removed]"
          },
          "metadata": {}
        }
      ],
      "source": [
        "cm = confusion_matrix(y_test, y_pred)\n",
        "print('Confusion matrix\\n', cm)\n",
        "\n",
        "n = sns.heatmap(cm/np.sum(cm), annot=True, fmt='.2%')\n",
        "\n",
        "n.set_title('KNN Confusion Matrix with labels\\n\\n')\n",
        "n.set_xlabel('\\nPredicted Values')\n",
        "n.set_ylabel('Actual Values ')\n",
        "\n",
        "n.xaxis.set_ticklabels(['False','True'])\n",
        "n.yaxis.set_ticklabels(['False','True'])"
      ],
      "id": "jbQivrdrwMlo"
    },
    {
      "cell_type": "markdown",
      "metadata": {
        "id": "CtEMHmF-jYb1"
      },
      "source": [
        "# Decision tree"
      ],
      "id": "CtEMHmF-jYb1"
    },
    {
      "cell_type": "code",
      "execution_count": null,
      "metadata": {
        "id": "e57f633c"
      },
      "outputs": [],
      "source": [
        "# Create a decision tree model/classifier <better results without standardiaztion>\n",
        "dt = tree.DecisionTreeClassifier()\n",
        "dt.fit(scaled_x_train, y_train)\n",
        "y_pred3 = dt.predict(scaled_x_test)\n"
      ],
      "id": "e57f633c"
    },
    {
      "cell_type": "markdown",
      "source": [
        ">Reoprting our model preformance and classification accuracy\n"
      ],
      "metadata": {
        "id": "afHg_L1-6m_T"
      },
      "id": "afHg_L1-6m_T"
    },
    {
      "cell_type": "code",
      "execution_count": null,
      "metadata": {
        "id": "7626ac59",
        "colab": {
          "base_uri": "https://localhost:8080/"
        },
        "outputId": "4dcaeb60-2409-40d1-bfae-7c5adb83c542"
      },
      "outputs": [
        {
          "output_type": "stream",
          "name": "stdout",
          "text": [
            "Decision tree accuracy:  0.8101694915254237\n",
            "              precision    recall  f1-score   support\n",
            "\n",
            "           0       0.87      0.85      0.86       601\n",
            "           1       0.70      0.72      0.71       284\n",
            "\n",
            "    accuracy                           0.81       885\n",
            "   macro avg       0.78      0.79      0.78       885\n",
            "weighted avg       0.81      0.81      0.81       885\n",
            "\n"
          ]
        }
      ],
      "source": [
        "print(\"Decision tree accuracy: \",accuracy_score(y_test,y_pred3))\n",
        "print(classification_report(y_test, y_pred3))"
      ],
      "id": "7626ac59"
    },
    {
      "cell_type": "markdown",
      "source": [
        "> Confusion matrix"
      ],
      "metadata": {
        "id": "I8jowUWe6-X8"
      },
      "id": "I8jowUWe6-X8"
    },
    {
      "cell_type": "code",
      "execution_count": null,
      "metadata": {
        "id": "MIPUyMaxTPSw",
        "colab": {
          "base_uri": "https://localhost:8080/",
          "height": 547
        },
        "outputId": "a6e17c60-2547-4ff2-9765-611e0471cdb5"
      },
      "outputs": [
        {
          "output_type": "execute_result",
          "data": {
            "text/plain": [
              "[Text(0, 0.5, 'False'), Text(0, 1.5, 'True')]"
            ]
          },
          "metadata": {},
          "execution_count": 212
        },
        {
          "output_type": "display_data",
          "data": {
            "text/plain": [
              "<Figure size 640x480 with 2 Axes>"
            ],
            "image/png": "[encoded data removed]"
          },
          "metadata": {}
        }
      ],
      "source": [
        "cm = confusion_matrix(y_test, y_pred3)\n",
        "# print('Confusion matrix\\n', cm)\n",
        "\n",
        "n = sns.heatmap(cm/np.sum(cm), annot=True, fmt='.2%')\n",
        "n.set_title('Decision tree Confusion Matrix with labels\\n\\n');\n",
        "n.set_xlabel('\\nPredicted Values')\n",
        "n.set_ylabel('Actual Values ');\n",
        "\n",
        "n.xaxis.set_ticklabels(['False','True'])\n",
        "n.yaxis.set_ticklabels(['False','True'])"
      ],
      "id": "MIPUyMaxTPSw"
    },
    {
      "cell_type": "markdown",
      "metadata": {
        "id": "nlxCQSUVjxqU"
      },
      "source": [
        "#SVM"
      ],
      "id": "nlxCQSUVjxqU"
    },
    {
      "cell_type": "code",
      "execution_count": null,
      "metadata": {
        "id": "d059cb97"
      },
      "outputs": [],
      "source": [
        "from sklearn import svm\n",
        "clf = svm.SVC()\n",
        "clf.fit(scaled_x_train, y_train)\n",
        "y_pred4 = clf.predict(scaled_x_test)"
      ],
      "id": "d059cb97"
    },
    {
      "cell_type": "markdown",
      "source": [
        ">Reoprting our model preformance and classification accuracy\n"
      ],
      "metadata": {
        "id": "el_r4kwV6q0V"
      },
      "id": "el_r4kwV6q0V"
    },
    {
      "cell_type": "code",
      "execution_count": null,
      "metadata": {
        "id": "f70767f3",
        "colab": {
          "base_uri": "https://localhost:8080/"
        },
        "outputId": "b047d97f-cb1f-43b7-9093-97a5776e062c"
      },
      "outputs": [
        {
          "output_type": "stream",
          "name": "stdout",
          "text": [
            "SVM accuarcy:  0.8531073446327684\n",
            "              precision    recall  f1-score   support\n",
            "\n",
            "           0       0.85      0.95      0.90       601\n",
            "           1       0.86      0.65      0.74       284\n",
            "\n",
            "    accuracy                           0.85       885\n",
            "   macro avg       0.85      0.80      0.82       885\n",
            "weighted avg       0.85      0.85      0.85       885\n",
            "\n"
          ]
        }
      ],
      "source": [
        "print(\"SVM accuarcy: \",accuracy_score(y_test,y_pred4))\n",
        "print(classification_report(y_test, y_pred4))"
      ],
      "id": "f70767f3"
    },
    {
      "cell_type": "markdown",
      "source": [
        "> Confusion matrix"
      ],
      "metadata": {
        "id": "BfWFcIID6_uK"
      },
      "id": "BfWFcIID6_uK"
    },
    {
      "cell_type": "code",
      "execution_count": null,
      "metadata": {
        "id": "n0-SAkxpThfY",
        "colab": {
          "base_uri": "https://localhost:8080/",
          "height": 599
        },
        "outputId": "85fb9ab0-d5cd-4099-c497-adc93295dce0"
      },
      "outputs": [
        {
          "output_type": "stream",
          "name": "stdout",
          "text": [
            "Confusion matrix\n",
            " [[570  31]\n",
            " [ 99 185]]\n"
          ]
        },
        {
          "output_type": "execute_result",
          "data": {
            "text/plain": [
              "[Text(0, 0.5, 'False'), Text(0, 1.5, 'True')]"
            ]
          },
          "metadata": {},
          "execution_count": 215
        },
        {
          "output_type": "display_data",
          "data": {
            "text/plain": [
              "<Figure size 640x480 with 2 Axes>"
            ],
            "image/png": "[encoded data removed]"
          },
          "metadata": {}
        }
      ],
      "source": [
        "cm = confusion_matrix(y_test, y_pred4)\n",
        "print('Confusion matrix\\n', cm)\n",
        "\n",
        "n = sns.heatmap(cm/np.sum(cm), annot=True, fmt='.2%')\n",
        "n.set_title('SVM Confusion Matrix with labels\\n\\n');\n",
        "n.set_xlabel('\\nPredicted Values')\n",
        "n.set_ylabel('Actual Values ');\n",
        "\n",
        "n.xaxis.set_ticklabels(['False','True'])\n",
        "n.yaxis.set_ticklabels(['False','True'])"
      ],
      "id": "n0-SAkxpThfY"
    },
    {
      "cell_type": "markdown",
      "metadata": {
        "id": "p_2o4HBhkLjT"
      },
      "source": [
        "#Naive bayes"
      ],
      "id": "p_2o4HBhkLjT"
    },
    {
      "cell_type": "code",
      "execution_count": null,
      "metadata": {
        "id": "qpuw6GXRInXy"
      },
      "outputs": [],
      "source": [
        "GNB = GaussianNB()\n",
        "GNB.fit(scaled_x_train, y_train)\n",
        "y_pred6= GNB.predict(scaled_x_test)"
      ],
      "id": "qpuw6GXRInXy"
    },
    {
      "cell_type": "markdown",
      "source": [
        ">Reoprting our model preformance and classification accuracy\n"
      ],
      "metadata": {
        "id": "GrM5SFp96yIz"
      },
      "id": "GrM5SFp96yIz"
    },
    {
      "cell_type": "code",
      "execution_count": null,
      "metadata": {
        "id": "pVdAweWEUYkZ",
        "colab": {
          "base_uri": "https://localhost:8080/"
        },
        "outputId": "a6fbd2d6-0ed8-4407-a339-caeae18c685f"
      },
      "outputs": [
        {
          "output_type": "stream",
          "name": "stdout",
          "text": [
            "Naive bayes accuarcy: 0.8169491525423729\n",
            "              precision    recall  f1-score   support\n",
            "\n",
            "           0       0.86      0.87      0.87       601\n",
            "           1       0.72      0.71      0.71       284\n",
            "\n",
            "    accuracy                           0.82       885\n",
            "   macro avg       0.79      0.79      0.79       885\n",
            "weighted avg       0.82      0.82      0.82       885\n",
            "\n"
          ]
        }
      ],
      "source": [
        "print(\"Naive bayes accuarcy:\",accuracy_score(y_test,y_pred6))\n",
        "print(classification_report(y_test, y_pred6))"
      ],
      "id": "pVdAweWEUYkZ"
    },
    {
      "cell_type": "markdown",
      "source": [
        "> Confusion matrix"
      ],
      "metadata": {
        "id": "fJ8F-fYW7BBL"
      },
      "id": "fJ8F-fYW7BBL"
    },
    {
      "cell_type": "code",
      "execution_count": null,
      "metadata": {
        "id": "_-atzL6oUkDy",
        "colab": {
          "base_uri": "https://localhost:8080/",
          "height": 599
        },
        "outputId": "14d4c740-8c1f-4c36-ae18-be523a673abb"
      },
      "outputs": [
        {
          "output_type": "stream",
          "name": "stdout",
          "text": [
            "Confusion matrix\n",
            " [[521  80]\n",
            " [ 82 202]]\n"
          ]
        },
        {
          "output_type": "execute_result",
          "data": {
            "text/plain": [
              "[Text(0, 0.5, 'False'), Text(0, 1.5, 'True')]"
            ]
          },
          "metadata": {},
          "execution_count": 218
        },
        {
          "output_type": "display_data",
          "data": {
            "text/plain": [
              "<Figure size 640x480 with 2 Axes>"
            ],
            "image/png": "[encoded data removed]"
          },
          "metadata": {}
        }
      ],
      "source": [
        "cm = confusion_matrix(y_test, y_pred6)\n",
        "print('Confusion matrix\\n', cm)\n",
        "\n",
        "n = sns.heatmap(cm/np.sum(cm), annot=True, fmt='.2%')\n",
        "n.set_title('Naive bayes Confusion Matrix with labels\\n\\n');\n",
        "n.set_xlabel('\\nPredicted Values')\n",
        "n.set_ylabel('Actual Values ');\n",
        "\n",
        "n.xaxis.set_ticklabels(['False','True'])\n",
        "n.yaxis.set_ticklabels(['False','True'])"
      ],
      "id": "_-atzL6oUkDy"
    },
    {
      "cell_type": "markdown",
      "metadata": {
        "id": "fJIWThIzjKru"
      },
      "source": [
        "# logistic regression model"
      ],
      "id": "fJIWThIzjKru"
    },
    {
      "cell_type": "markdown",
      "source": [
        "> Hyper parameter tunning "
      ],
      "metadata": {
        "id": "xNziRjzZ6CdS"
      },
      "id": "xNziRjzZ6CdS"
    },
    {
      "cell_type": "code",
      "execution_count": null,
      "metadata": {
        "id": "sAtmDSMFaMPG",
        "colab": {
          "base_uri": "https://localhost:8080/"
        },
        "outputId": "1e240a8f-822a-4482-ed92-1840450622ff"
      },
      "outputs": [
        {
          "output_type": "stream",
          "name": "stdout",
          "text": [
            "Fitting 3 folds for each of 1600 candidates, totalling 4800 fits\n"
          ]
        },
        {
          "output_type": "stream",
          "name": "stderr",
          "text": [
            "/usr/local/lib/python3.10/dist-packages/sklearn/model_selection/_validation.py:378: FitFailedWarning: \n",
            "2160 fits failed out of a total of 4800.\n",
            "The score on these train-test partitions for these parameters will be set to nan.\n",
            "If these failures are not expected, you can try to debug them by setting error_score='raise'.\n",
            "\n",
            "Below are more details about the failures:\n",
            "--------------------------------------------------------------------------------\n",
            "240 fits failed with the following error:\n",
            "Traceback (most recent call last):\n",
            "  File \"/usr/local/lib/python3.10/dist-packages/sklearn/model_selection/_validation.py\", line 686, in _fit_and_score\n",
            "    estimator.fit(X_train, y_train, **fit_params)\n",
            "  File \"/usr/local/lib/python3.10/dist-packages/sklearn/linear_model/_logistic.py\", line 1162, in fit\n",
            "    solver = _check_solver(self.solver, self.penalty, self.dual)\n",
            "  File \"/usr/local/lib/python3.10/dist-packages/sklearn/linear_model/_logistic.py\", line 54, in _check_solver\n",
            "    raise ValueError(\n",
            "ValueError: Solver lbfgs supports only 'l2' or 'none' penalties, got l1 penalty.\n",
            "\n",
            "--------------------------------------------------------------------------------\n",
            "240 fits failed with the following error:\n",
            "Traceback (most recent call last):\n",
            "  File \"/usr/local/lib/python3.10/dist-packages/sklearn/model_selection/_validation.py\", line 686, in _fit_and_score\n",
            "    estimator.fit(X_train, y_train, **fit_params)\n",
            "  File \"/usr/local/lib/python3.10/dist-packages/sklearn/linear_model/_logistic.py\", line 1162, in fit\n",
            "    solver = _check_solver(self.solver, self.penalty, self.dual)\n",
            "  File \"/usr/local/lib/python3.10/dist-packages/sklearn/linear_model/_logistic.py\", line 54, in _check_solver\n",
            "    raise ValueError(\n",
            "ValueError: Solver newton-cg supports only 'l2' or 'none' penalties, got l1 penalty.\n",
            "\n",
            "--------------------------------------------------------------------------------\n",
            "240 fits failed with the following error:\n",
            "Traceback (most recent call last):\n",
            "  File \"/usr/local/lib/python3.10/dist-packages/sklearn/model_selection/_validation.py\", line 686, in _fit_and_score\n",
            "    estimator.fit(X_train, y_train, **fit_params)\n",
            "  File \"/usr/local/lib/python3.10/dist-packages/sklearn/linear_model/_logistic.py\", line 1162, in fit\n",
            "    solver = _check_solver(self.solver, self.penalty, self.dual)\n",
            "  File \"/usr/local/lib/python3.10/dist-packages/sklearn/linear_model/_logistic.py\", line 54, in _check_solver\n",
            "    raise ValueError(\n",
            "ValueError: Solver sag supports only 'l2' or 'none' penalties, got l1 penalty.\n",
            "\n",
            "--------------------------------------------------------------------------------\n",
            "240 fits failed with the following error:\n",
            "Traceback (most recent call last):\n",
            "  File \"/usr/local/lib/python3.10/dist-packages/sklearn/model_selection/_validation.py\", line 686, in _fit_and_score\n",
            "    estimator.fit(X_train, y_train, **fit_params)\n",
            "  File \"/usr/local/lib/python3.10/dist-packages/sklearn/linear_model/_logistic.py\", line 1162, in fit\n",
            "    solver = _check_solver(self.solver, self.penalty, self.dual)\n",
            "  File \"/usr/local/lib/python3.10/dist-packages/sklearn/linear_model/_logistic.py\", line 54, in _check_solver\n",
            "    raise ValueError(\n",
            "ValueError: Solver lbfgs supports only 'l2' or 'none' penalties, got elasticnet penalty.\n",
            "\n",
            "--------------------------------------------------------------------------------\n",
            "240 fits failed with the following error:\n",
            "Traceback (most recent call last):\n",
            "  File \"/usr/local/lib/python3.10/dist-packages/sklearn/model_selection/_validation.py\", line 686, in _fit_and_score\n",
            "    estimator.fit(X_train, y_train, **fit_params)\n",
            "  File \"/usr/local/lib/python3.10/dist-packages/sklearn/linear_model/_logistic.py\", line 1162, in fit\n",
            "    solver = _check_solver(self.solver, self.penalty, self.dual)\n",
            "  File \"/usr/local/lib/python3.10/dist-packages/sklearn/linear_model/_logistic.py\", line 54, in _check_solver\n",
            "    raise ValueError(\n",
            "ValueError: Solver newton-cg supports only 'l2' or 'none' penalties, got elasticnet penalty.\n",
            "\n",
            "--------------------------------------------------------------------------------\n",
            "240 fits failed with the following error:\n",
            "Traceback (most recent call last):\n",
            "  File \"/usr/local/lib/python3.10/dist-packages/sklearn/model_selection/_validation.py\", line 686, in _fit_and_score\n",
            "    estimator.fit(X_train, y_train, **fit_params)\n",
            "  File \"/usr/local/lib/python3.10/dist-packages/sklearn/linear_model/_logistic.py\", line 1162, in fit\n",
            "    solver = _check_solver(self.solver, self.penalty, self.dual)\n",
            "  File \"/usr/local/lib/python3.10/dist-packages/sklearn/linear_model/_logistic.py\", line 64, in _check_solver\n",
            "    raise ValueError(\n",
            "ValueError: Only 'saga' solver supports elasticnet penalty, got solver=liblinear.\n",
            "\n",
            "--------------------------------------------------------------------------------\n",
            "240 fits failed with the following error:\n",
            "Traceback (most recent call last):\n",
            "  File \"/usr/local/lib/python3.10/dist-packages/sklearn/model_selection/_validation.py\", line 686, in _fit_and_score\n",
            "    estimator.fit(X_train, y_train, **fit_params)\n",
            "  File \"/usr/local/lib/python3.10/dist-packages/sklearn/linear_model/_logistic.py\", line 1162, in fit\n",
            "    solver = _check_solver(self.solver, self.penalty, self.dual)\n",
            "  File \"/usr/local/lib/python3.10/dist-packages/sklearn/linear_model/_logistic.py\", line 54, in _check_solver\n",
            "    raise ValueError(\n",
            "ValueError: Solver sag supports only 'l2' or 'none' penalties, got elasticnet penalty.\n",
            "\n",
            "--------------------------------------------------------------------------------\n",
            "240 fits failed with the following error:\n",
            "Traceback (most recent call last):\n",
            "  File \"/usr/local/lib/python3.10/dist-packages/sklearn/model_selection/_validation.py\", line 686, in _fit_and_score\n",
            "    estimator.fit(X_train, y_train, **fit_params)\n",
            "  File \"/usr/local/lib/python3.10/dist-packages/sklearn/linear_model/_logistic.py\", line 1291, in fit\n",
            "    fold_coefs_ = Parallel(n_jobs=self.n_jobs, verbose=self.verbose, prefer=prefer)(\n",
            "  File \"/usr/local/lib/python3.10/dist-packages/sklearn/utils/parallel.py\", line 63, in __call__\n",
            "    return super().__call__(iterable_with_config)\n",
            "  File \"/usr/local/lib/python3.10/dist-packages/joblib/parallel.py\", line 1085, in __call__\n",
            "    if self.dispatch_one_batch(iterator):\n",
            "  File \"/usr/local/lib/python3.10/dist-packages/joblib/parallel.py\", line 901, in dispatch_one_batch\n",
            "    self._dispatch(tasks)\n",
            "  File \"/usr/local/lib/python3.10/dist-packages/joblib/parallel.py\", line 819, in _dispatch\n",
            "    job = self._backend.apply_async(batch, callback=cb)\n",
            "  File \"/usr/local/lib/python3.10/dist-packages/joblib/_parallel_backends.py\", line 208, in apply_async\n",
            "    result = ImmediateResult(func)\n",
            "  File \"/usr/local/lib/python3.10/dist-packages/joblib/_parallel_backends.py\", line 597, in __init__\n",
            "    self.results = batch()\n",
            "  File \"/usr/local/lib/python3.10/dist-packages/joblib/parallel.py\", line 288, in __call__\n",
            "    return [func(*args, **kwargs)\n",
            "  File \"/usr/local/lib/python3.10/dist-packages/joblib/parallel.py\", line 288, in <listcomp>\n",
            "    return [func(*args, **kwargs)\n",
            "  File \"/usr/local/lib/python3.10/dist-packages/sklearn/utils/parallel.py\", line 123, in __call__\n",
            "    return self.function(*args, **kwargs)\n",
            "  File \"/usr/local/lib/python3.10/dist-packages/sklearn/linear_model/_logistic.py\", line 521, in _logistic_regression_path\n",
            "    alpha = (1.0 / C) * (1 - l1_ratio)\n",
            "TypeError: unsupported operand type(s) for -: 'int' and 'NoneType'\n",
            "\n",
            "--------------------------------------------------------------------------------\n",
            "240 fits failed with the following error:\n",
            "Traceback (most recent call last):\n",
            "  File \"/usr/local/lib/python3.10/dist-packages/sklearn/model_selection/_validation.py\", line 686, in _fit_and_score\n",
            "    estimator.fit(X_train, y_train, **fit_params)\n",
            "  File \"/usr/local/lib/python3.10/dist-packages/sklearn/linear_model/_logistic.py\", line 1162, in fit\n",
            "    solver = _check_solver(self.solver, self.penalty, self.dual)\n",
            "  File \"/usr/local/lib/python3.10/dist-packages/sklearn/linear_model/_logistic.py\", line 71, in _check_solver\n",
            "    raise ValueError(\"penalty='none' is not supported for the liblinear solver\")\n",
            "ValueError: penalty='none' is not supported for the liblinear solver\n",
            "\n",
            "  warnings.warn(some_fits_failed_message, FitFailedWarning)\n",
            "/usr/local/lib/python3.10/dist-packages/sklearn/model_selection/_search.py:952: UserWarning: One or more of the test scores are non-finite: [       nan        nan 0.67872275 ...        nan 0.87736615 0.87736615]\n",
            "  warnings.warn(\n"
          ]
        }
      ],
      "source": [
        "\n",
        "import numpy as np\n",
        "\n",
        "logModel = LogisticRegression()\n",
        "\n",
        "param_grid = [    \n",
        "    {'penalty' : ['l1', 'l2', 'elasticnet', 'none'],\n",
        "    'C' : np.logspace(-4, 4, 20),\n",
        "    'solver' : ['lbfgs','newton-cg','liblinear','sag','saga'],\n",
        "    'max_iter' : [100, 1000,2500, 5000]\n",
        "    }\n",
        "]\n",
        "\n",
        "from sklearn.model_selection import GridSearchCV\n",
        "clf = GridSearchCV(logModel, param_grid = param_grid, cv = 3, verbose=True, n_jobs=-1)\n",
        "best_clf = clf.fit(scaled_x_train,y_train)"
      ],
      "id": "sAtmDSMFaMPG"
    },
    {
      "cell_type": "code",
      "execution_count": null,
      "metadata": {
        "id": "60wjVyiza9up",
        "colab": {
          "base_uri": "https://localhost:8080/",
          "height": 74
        },
        "outputId": "f2cb1fa3-6811-4265-f832-f9c8e3ee0b5a"
      },
      "outputs": [
        {
          "output_type": "execute_result",
          "data": {
            "text/plain": [
              "LogisticRegression(C=1.623776739188721, penalty='l1', solver='liblinear')"
            ],
            "text/html": [
              "<style>#sk-container-id-2 {color: black;background-color: white;}#sk-container-id-2 pre{padding: 0;}#sk-container-id-2 div.sk-toggleable {background-color: white;}#sk-container-id-2 label.sk-toggleable__label {cursor: pointer;display: block;width: 100%;margin-bottom: 0;padding: 0.3em;box-sizing: border-box;text-align: center;}#sk-container-id-2 label.sk-toggleable__label-arrow:before {content: \"▸\";float: left;margin-right: 0.25em;color: #696969;}#sk-container-id-2 label.sk-toggleable__label-arrow:hover:before {color: black;}#sk-container-id-2 div.sk-estimator:hover label.sk-toggleable__label-arrow:before {color: black;}#sk-container-id-2 div.sk-toggleable__content {max-height: 0;max-width: 0;overflow: hidden;text-align: left;background-color: #f0f8ff;}#sk-container-id-2 div.sk-toggleable__content pre {margin: 0.2em;color: black;border-radius: 0.25em;background-color: #f0f8ff;}#sk-container-id-2 input.sk-toggleable__control:checked~div.sk-toggleable__content {max-height: 200px;max-width: 100%;overflow: auto;}#sk-container-id-2 input.sk-toggleable__control:checked~label.sk-toggleable__label-arrow:before {content: \"▾\";}#sk-container-id-2 div.sk-estimator input.sk-toggleable__control:checked~label.sk-toggleable__label {background-color: #d4ebff;}#sk-container-id-2 div.sk-label input.sk-toggleable__control:checked~label.sk-toggleable__label {background-color: #d4ebff;}#sk-container-id-2 input.sk-hidden--visually {border: 0;clip: rect(1px 1px 1px 1px);clip: rect(1px, 1px, 1px, 1px);height: 1px;margin: -1px;overflow: hidden;padding: 0;position: absolute;width: 1px;}#sk-container-id-2 div.sk-estimator {font-family: monospace;background-color: #f0f8ff;border: 1px dotted black;border-radius: 0.25em;box-sizing: border-box;margin-bottom: 0.5em;}#sk-container-id-2 div.sk-estimator:hover {background-color: #d4ebff;}#sk-container-id-2 div.sk-parallel-item::after {content: \"\";width: 100%;border-bottom: 1px solid gray;flex-grow: 1;}#sk-container-id-2 div.sk-label:hover label.sk-toggleable__label {background-color: #d4ebff;}#sk-container-id-2 div.sk-serial::before {content: \"\";position: absolute;border-left: 1px solid gray;box-sizing: border-box;top: 0;bottom: 0;left: 50%;z-index: 0;}#sk-container-id-2 div.sk-serial {display: flex;flex-direction: column;align-items: center;background-color: white;padding-right: 0.2em;padding-left: 0.2em;position: relative;}#sk-container-id-2 div.sk-item {position: relative;z-index: 1;}#sk-container-id-2 div.sk-parallel {display: flex;align-items: stretch;justify-content: center;background-color: white;position: relative;}#sk-container-id-2 div.sk-item::before, #sk-container-id-2 div.sk-parallel-item::before {content: \"\";position: absolute;border-left: 1px solid gray;box-sizing: border-box;top: 0;bottom: 0;left: 50%;z-index: -1;}#sk-container-id-2 div.sk-parallel-item {display: flex;flex-direction: column;z-index: 1;position: relative;background-color: white;}#sk-container-id-2 div.sk-parallel-item:first-child::after {align-self: flex-end;width: 50%;}#sk-container-id-2 div.sk-parallel-item:last-child::after {align-self: flex-start;width: 50%;}#sk-container-id-2 div.sk-parallel-item:only-child::after {width: 0;}#sk-container-id-2 div.sk-dashed-wrapped {border: 1px dashed gray;margin: 0 0.4em 0.5em 0.4em;box-sizing: border-box;padding-bottom: 0.4em;background-color: white;}#sk-container-id-2 div.sk-label label {font-family: monospace;font-weight: bold;display: inline-block;line-height: 1.2em;}#sk-container-id-2 div.sk-label-container {text-align: center;}#sk-container-id-2 div.sk-container {/* jupyter's `normalize.less` sets `[hidden] { display: none; }` but bootstrap.min.css set `[hidden] { display: none !important; }` so we also need the `!important` here to be able to override the default hidden behavior on the sphinx rendered scikit-learn.org. See: https://github.com/scikit-learn/scikit-learn/issues/21755 */display: inline-block !important;position: relative;}#sk-container-id-2 div.sk-text-repr-fallback {display: none;}</style><div id=\"sk-container-id-2\" class=\"sk-top-container\"><div class=\"sk-text-repr-fallback\"><pre>LogisticRegression(C=1.623776739188721, penalty=&#x27;l1&#x27;, solver=&#x27;liblinear&#x27;)</pre><b>In a Jupyter environment, please rerun this cell to show the HTML representation or trust the notebook. <br />On GitHub, the HTML representation is unable to render, please try loading this page with nbviewer.org.</b></div><div class=\"sk-container\" hidden><div class=\"sk-item\"><div class=\"sk-estimator sk-toggleable\"><input class=\"sk-toggleable__control sk-hidden--visually\" id=\"sk-estimator-id-2\" type=\"checkbox\" checked><label for=\"sk-estimator-id-2\" class=\"sk-toggleable__label sk-toggleable__label-arrow\">LogisticRegression</label><div class=\"sk-toggleable__content\"><pre>LogisticRegression(C=1.623776739188721, penalty=&#x27;l1&#x27;, solver=&#x27;liblinear&#x27;)</pre></div></div></div></div></div>"
            ]
          },
          "metadata": {},
          "execution_count": 220
        }
      ],
      "source": [
        "best_clf.best_estimator_"
      ],
      "id": "60wjVyiza9up"
    },
    {
      "cell_type": "code",
      "execution_count": null,
      "metadata": {
        "id": "afae3a96"
      },
      "outputs": [],
      "source": [
        "# Create a logistic regression model\n",
        "lr = LogisticRegression(C=1.623776739188721, penalty='l1', solver='liblinear')\n",
        "lr.fit(scaled_x_train, y_train)\n",
        "y_pred2 = lr.predict(scaled_x_test)"
      ],
      "id": "afae3a96"
    },
    {
      "cell_type": "markdown",
      "source": [
        ">Reoprting our model preformance and classification accuracy\n"
      ],
      "metadata": {
        "id": "ikrM68DU60_i"
      },
      "id": "ikrM68DU60_i"
    },
    {
      "cell_type": "code",
      "execution_count": null,
      "metadata": {
        "id": "EkNzDI_bv8SP",
        "colab": {
          "base_uri": "https://localhost:8080/"
        },
        "outputId": "c4dc5e88-88c1-493f-e9d3-57c8e773a165"
      },
      "outputs": [
        {
          "output_type": "stream",
          "name": "stdout",
          "text": [
            "LogisticRegression accuracy 0.8689265536723164\n",
            "              precision    recall  f1-score   support\n",
            "\n",
            "           0       0.88      0.93      0.91       601\n",
            "           1       0.84      0.74      0.78       284\n",
            "\n",
            "    accuracy                           0.87       885\n",
            "   macro avg       0.86      0.83      0.84       885\n",
            "weighted avg       0.87      0.87      0.87       885\n",
            "\n"
          ]
        }
      ],
      "source": [
        "# Reoprting our model preformance and classification accuracy <Slightly better results without standraiztion>\n",
        "print(\"LogisticRegression accuracy\",accuracy_score(y_test,y_pred2))\n",
        "print(classification_report(y_test, y_pred2))"
      ],
      "id": "EkNzDI_bv8SP"
    },
    {
      "cell_type": "markdown",
      "source": [
        "> Confusion matrix"
      ],
      "metadata": {
        "id": "CCfX4n177Cdy"
      },
      "id": "CCfX4n177Cdy"
    },
    {
      "cell_type": "code",
      "execution_count": null,
      "metadata": {
        "id": "YBuE9BEMeiCE",
        "colab": {
          "base_uri": "https://localhost:8080/",
          "height": 599
        },
        "outputId": "f9dece59-7907-4256-8c98-9e37b44d84bd"
      },
      "outputs": [
        {
          "output_type": "stream",
          "name": "stdout",
          "text": [
            "Confusion matrix\n",
            " [[560  41]\n",
            " [ 75 209]]\n"
          ]
        },
        {
          "output_type": "execute_result",
          "data": {
            "text/plain": [
              "[Text(0, 0.5, 'False'), Text(0, 1.5, 'True')]"
            ]
          },
          "metadata": {},
          "execution_count": 223
        },
        {
          "output_type": "display_data",
          "data": {
            "text/plain": [
              "<Figure size 640x480 with 2 Axes>"
            ],
            "image/png": "[encoded data removed]"
          },
          "metadata": {}
        }
      ],
      "source": [
        "cm = confusion_matrix(y_test, y_pred2)\n",
        "print('Confusion matrix\\n', cm)\n",
        "\n",
        "n = sns.heatmap(cm/np.sum(cm), annot=True, fmt='.2%')\n",
        "n.set_title('Logistic regression Confusion Matrix with labels\\n\\n');\n",
        "n.set_xlabel('\\nPredicted Values')\n",
        "n.set_ylabel('Actual Values ');\n",
        "\n",
        "n.xaxis.set_ticklabels(['False','True'])\n",
        "n.yaxis.set_ticklabels(['False','True'])"
      ],
      "id": "YBuE9BEMeiCE"
    },
    {
      "cell_type": "markdown",
      "metadata": {
        "id": "81yr37DTILWr"
      },
      "source": [
        "##Conclusion\n",
        "\n",
        "\n",
        "*   KNN accuracy :81.2% \n",
        "\n",
        "*   Decision tree accuracy : 80%\n",
        "*   SVM accuracy : 85%\n",
        "\n",
        "*   Naïve Bayes classifier accuracy :81.6%\n",
        "\n",
        "*   Logistic regression accuracy : 86.9%\n",
        "\n",
        "\n",
        "\n",
        "\n",
        "\n",
        "\n",
        "\n"
      ],
      "id": "81yr37DTILWr"
    },
    {
      "cell_type": "markdown",
      "metadata": {
        "id": "EwN7EFICIPh0"
      },
      "source": [
        "##Resourses:\n",
        "1. https://stackoverflow.com/questions/66841470/how-to-count-different-values-and-plot-the-certain-column-from-a-pandas-datafram\n",
        "2. https://github.com/JKabathova/Students-Dropout-Prediction/blob/main/2.DecisionTree(DT).ipynb\n",
        "3.https://machinelearningmastery.com/get-your-hands-dirty-with-scikit-learn-now/\n",
        "4.https://towardsdatascience.com/3-easy-ways-to-crosstab-in-pandas-4123383bfbf2\n",
        "5. https://www.kaggle.com/code/funxexcel/p2-logistic-regression-hyperparameter-tuning\n",
        "6.https://www.stackvidhya.com/plot-confusion-matrix-in-python-and-why/\n"
      ],
      "id": "EwN7EFICIPh0"
    }
  ],
  "metadata": {
    "colab": {
      "provenance": [],
      "include_colab_link": true
    },
    "kernelspec": {
      "display_name": "Python 3 (ipykernel)",
      "language": "python",
      "name": "python3"
    },
    "language_info": {
      "codemirror_mode": {
        "name": "ipython",
        "version": 3
      },
      "file_extension": ".py",
      "mimetype": "text/x-python",
      "name": "python",
      "nbconvert_exporter": "python",
      "pygments_lexer": "ipython3",
      "version": "3.9.13"
    }
  },
  "nbformat": 4,
  "nbformat_minor": 5
}